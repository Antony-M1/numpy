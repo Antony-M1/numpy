{
 "cells": [
  {
   "cell_type": "code",
   "execution_count": 201,
   "id": "fafe6543",
   "metadata": {},
   "outputs": [],
   "source": [
    "import numpy as np"
   ]
  },
  {
   "cell_type": "code",
   "execution_count": 202,
   "id": "aaa88524",
   "metadata": {},
   "outputs": [
    {
     "data": {
      "text/plain": [
       "array([0, 1, 2, 3, 4])"
      ]
     },
     "execution_count": 202,
     "metadata": {},
     "output_type": "execute_result"
    }
   ],
   "source": [
    "array = np.array(range(5))\n",
    "array"
   ]
  },
  {
   "cell_type": "raw",
   "id": "51a38fe1",
   "metadata": {},
   "source": [
    "Example for the 2 dimentional arrays"
   ]
  },
  {
   "cell_type": "code",
   "execution_count": 217,
   "id": "8966e58e",
   "metadata": {},
   "outputs": [
    {
     "data": {
      "text/plain": [
       "array([[0, 1, 2, 3, 4],\n",
       "       [0, 1, 2, 3, 4]])"
      ]
     },
     "execution_count": 217,
     "metadata": {},
     "output_type": "execute_result"
    }
   ],
   "source": [
    "array_2d = np.array([range(5), range(5)])\n",
    "array_2d"
   ]
  },
  {
   "cell_type": "markdown",
   "id": "889f7a0b",
   "metadata": {},
   "source": [
    "How to add a value through the all the elements in a array"
   ]
  },
  {
   "cell_type": "code",
   "execution_count": 220,
   "id": "674d5e64",
   "metadata": {},
   "outputs": [
    {
     "data": {
      "text/plain": [
       "array([[1, 2, 3, 4, 5],\n",
       "       [1, 2, 3, 4, 5]])"
      ]
     },
     "execution_count": 220,
     "metadata": {},
     "output_type": "execute_result"
    }
   ],
   "source": [
    "array_2d + 1  # arithmetic operations"
   ]
  },
  {
   "cell_type": "raw",
   "id": "c1618c2d",
   "metadata": {},
   "source": [
    "To know the shape of the array  please use \"shape Properties\""
   ]
  },
  {
   "cell_type": "code",
   "execution_count": 221,
   "id": "c328f727",
   "metadata": {},
   "outputs": [
    {
     "name": "stdout",
     "output_type": "stream",
     "text": [
      "(5,)\n",
      "(2, 5)\n"
     ]
    }
   ],
   "source": [
    "print(array.shape)\n",
    "print(array_2d.shape)"
   ]
  },
  {
   "cell_type": "raw",
   "id": "fcd24b0f",
   "metadata": {},
   "source": [
    "To know the size of a array it will give the total elements count"
   ]
  },
  {
   "cell_type": "code",
   "execution_count": 222,
   "id": "594dfd3b",
   "metadata": {},
   "outputs": [
    {
     "data": {
      "text/plain": [
       "10"
      ]
     },
     "execution_count": 222,
     "metadata": {},
     "output_type": "execute_result"
    }
   ],
   "source": [
    "array_2d.size"
   ]
  },
  {
   "cell_type": "markdown",
   "id": "fa53f192",
   "metadata": {},
   "source": [
    "Transpose method in numpy  **numpy.transpose**\n",
    "The numpy. transpose() function is one of the most important functions in matrix multiplication. This function permutes or Reverse the dimension of the given array and returns the modified array. The numpy. transpose() function changes the row elements into column elements and the column elements into row elements."
   ]
  },
  {
   "cell_type": "code",
   "execution_count": 223,
   "id": "97d1786f",
   "metadata": {},
   "outputs": [
    {
     "data": {
      "text/plain": [
       "(5, 2)"
      ]
     },
     "execution_count": 223,
     "metadata": {},
     "output_type": "execute_result"
    }
   ],
   "source": [
    "array_2d.T.shape"
   ]
  },
  {
   "cell_type": "code",
   "execution_count": 9,
   "id": "cb5120ed",
   "metadata": {},
   "outputs": [
    {
     "data": {
      "text/plain": [
       "array([[0, 0],\n",
       "       [1, 1],\n",
       "       [2, 2],\n",
       "       [3, 3],\n",
       "       [4, 4]])"
      ]
     },
     "execution_count": 9,
     "metadata": {},
     "output_type": "execute_result"
    }
   ],
   "source": [
    "np.transpose(array_2d)"
   ]
  },
  {
   "cell_type": "code",
   "execution_count": 10,
   "id": "71062494",
   "metadata": {},
   "outputs": [
    {
     "data": {
      "text/plain": [
       "array([[0, 0],\n",
       "       [1, 1],\n",
       "       [2, 2],\n",
       "       [3, 3],\n",
       "       [4, 4]])"
      ]
     },
     "execution_count": 10,
     "metadata": {},
     "output_type": "execute_result"
    }
   ],
   "source": [
    "array_2d.T"
   ]
  },
  {
   "cell_type": "markdown",
   "id": "9a75b834",
   "metadata": {},
   "source": [
    "See the above result initialy it was in **2 Row 5 column** now it is in **5 Row 2 colum**\n",
    "\n",
    "                        (2, 5) --> Transpose --> (5, 2)\n",
    "                        \n",
    " Change the **Column to row & row to column** it's play that kind of magic it does"
   ]
  },
  {
   "cell_type": "markdown",
   "id": "2f7257ed",
   "metadata": {},
   "source": [
    "To find the dimention you can use the **ndim**"
   ]
  },
  {
   "cell_type": "code",
   "execution_count": 11,
   "id": "3e58a933",
   "metadata": {},
   "outputs": [
    {
     "data": {
      "text/plain": [
       "1"
      ]
     },
     "execution_count": 11,
     "metadata": {},
     "output_type": "execute_result"
    }
   ],
   "source": [
    "array.ndim"
   ]
  },
  {
   "cell_type": "code",
   "execution_count": 12,
   "id": "30111ff2",
   "metadata": {},
   "outputs": [
    {
     "data": {
      "text/plain": [
       "array([0, 1, 2, 3, 4])"
      ]
     },
     "execution_count": 12,
     "metadata": {},
     "output_type": "execute_result"
    }
   ],
   "source": [
    "array"
   ]
  },
  {
   "cell_type": "code",
   "execution_count": 13,
   "id": "1518b188",
   "metadata": {},
   "outputs": [
    {
     "data": {
      "text/plain": [
       "2"
      ]
     },
     "execution_count": 13,
     "metadata": {},
     "output_type": "execute_result"
    }
   ],
   "source": [
    "array_2d.ndim"
   ]
  },
  {
   "cell_type": "code",
   "execution_count": 14,
   "id": "c27caeae",
   "metadata": {},
   "outputs": [
    {
     "data": {
      "text/plain": [
       "array([[0, 1, 2, 3, 4],\n",
       "       [0, 1, 2, 3, 4]])"
      ]
     },
     "execution_count": 14,
     "metadata": {},
     "output_type": "execute_result"
    }
   ],
   "source": [
    "array_2d"
   ]
  },
  {
   "cell_type": "markdown",
   "id": "a6fa2628",
   "metadata": {},
   "source": [
    "To know the **data types**\n",
    "\n",
    "i - integer\n",
    "\n",
    "b - boolean\n",
    "\n",
    "u - unsigned integer\n",
    "\n",
    "f - float\n",
    "\n",
    "c - complex float\n",
    "\n",
    "m - timedelta\n",
    "\n",
    "M - datetime\n",
    "\n",
    "O - object\n",
    "\n",
    "S - string\n",
    "\n",
    "U - unicode string\n",
    "\n",
    "V - fixed chunk of memory for other type ( void )\n",
    "\n",
    "(I behind u fcm --> said to --> MOSU --> vigiravan)"
   ]
  },
  {
   "cell_type": "code",
   "execution_count": 15,
   "id": "f501db80",
   "metadata": {},
   "outputs": [
    {
     "data": {
      "text/plain": [
       "dtype('int64')"
      ]
     },
     "execution_count": 15,
     "metadata": {},
     "output_type": "execute_result"
    }
   ],
   "source": [
    "array.dtype"
   ]
  },
  {
   "cell_type": "code",
   "execution_count": 16,
   "id": "b67d0598",
   "metadata": {},
   "outputs": [
    {
     "data": {
      "text/plain": [
       "dtype('int64')"
      ]
     },
     "execution_count": 16,
     "metadata": {},
     "output_type": "execute_result"
    }
   ],
   "source": [
    "array_2d.dtype"
   ]
  },
  {
   "cell_type": "code",
   "execution_count": 17,
   "id": "f93ce648",
   "metadata": {},
   "outputs": [
    {
     "data": {
      "text/plain": [
       "array(['I', 'Love', 'Pythons'], dtype='<U7')"
      ]
     },
     "execution_count": 17,
     "metadata": {},
     "output_type": "execute_result"
    }
   ],
   "source": [
    "np.array([\"I\", \"Love\", \"Pythons\"]) #U7 means unicode string"
   ]
  },
  {
   "cell_type": "markdown",
   "id": "aa2a0831",
   "metadata": {},
   "source": [
    "###  Assignment"
   ]
  },
  {
   "cell_type": "code",
   "execution_count": 18,
   "id": "d8fffef3",
   "metadata": {},
   "outputs": [
    {
     "data": {
      "text/plain": [
       "[10, 20, 30, 40, 50, 60, 70, 80, 90, 100]"
      ]
     },
     "execution_count": 18,
     "metadata": {},
     "output_type": "execute_result"
    }
   ],
   "source": [
    "my_list = [x * 10 for x in range(1,11)]\n",
    "my_list"
   ]
  },
  {
   "cell_type": "code",
   "execution_count": 19,
   "id": "222b0121",
   "metadata": {},
   "outputs": [
    {
     "data": {
      "text/plain": [
       "array([ 10.,  20.,  30.,  40.,  50.,  60.,  70.,  80.,  90., 100.],\n",
       "      dtype=float16)"
      ]
     },
     "execution_count": 19,
     "metadata": {},
     "output_type": "execute_result"
    }
   ],
   "source": [
    "my_array = np.array(my_list, dtype=np.float16)\n",
    "my_array"
   ]
  },
  {
   "cell_type": "code",
   "execution_count": 20,
   "id": "2213d482",
   "metadata": {},
   "outputs": [
    {
     "name": "stdout",
     "output_type": "stream",
     "text": [
      "numpy has no attripute float8\n"
     ]
    }
   ],
   "source": [
    "try:\n",
    "    float_8 = np.array([1,2,3,4], dtype=np.float8) \n",
    "    print(float_8)\n",
    "except:\n",
    "    print('numpy has no attripute float8')"
   ]
  },
  {
   "cell_type": "code",
   "execution_count": 21,
   "id": "213b8a17",
   "metadata": {},
   "outputs": [
    {
     "name": "stdout",
     "output_type": "stream",
     "text": [
      "1\n",
      "(10,)\n",
      "10\n",
      "float16\n"
     ]
    },
    {
     "data": {
      "text/plain": [
       "10"
      ]
     },
     "execution_count": 21,
     "metadata": {},
     "output_type": "execute_result"
    }
   ],
   "source": [
    "print(my_array.ndim)\n",
    "print(my_array.shape)\n",
    "print(my_array.size)\n",
    "print(my_array.dtype)\n",
    "my_array.reshape(5,2).size"
   ]
  },
  {
   "cell_type": "markdown",
   "id": "e4210825",
   "metadata": {},
   "source": [
    "### Array Creation\n",
    "As an alternative to converting list you can create arrays using funtions"
   ]
  },
  {
   "cell_type": "markdown",
   "id": "864a7f3e",
   "metadata": {},
   "source": [
    "\n",
    "**ones** --> Creates an array of ones of a given size, as float by default     \n",
    "**np.ones((rows, cols), dtype)**\n",
    "\n",
    "\n",
    "**zeros** --> Creates an array of zeros of a given size , as float by default   \n",
    "**np.zeros((row, colm), dtype)**\n",
    "\n",
    "\n",
    "**arange** --> Creates an array of integers with given start & stop values and a step size (only stop is required and is not inclusive)                       \n",
    "**np.arange((start, stop, step)**\n",
    "\n",
    "\n",
    "**linspace** --> (*meaning linearly spaced*) Creates an array of floats with given start & stop values with n elements, separated by a consistent step size(**stop inclusive**)                                                                                        \n",
    "**np.arange((start, stop, n)** linspace will use num = 50 as a default.\n",
    "\n",
    "\n",
    "**reshape** --> Creates an array into specified dimensions, if compatible       \n",
    "**np.array.reshape(rows, cols)**"
   ]
  },
  {
   "cell_type": "code",
   "execution_count": 22,
   "id": "b1e0378c",
   "metadata": {},
   "outputs": [
    {
     "data": {
      "text/plain": [
       "array([[1, 1],\n",
       "       [1, 1],\n",
       "       [1, 1],\n",
       "       [1, 1]], dtype=int8)"
      ]
     },
     "execution_count": 22,
     "metadata": {},
     "output_type": "execute_result"
    }
   ],
   "source": [
    "np.ones((4,2), dtype=np.int8) #(4,1) default dtype=float"
   ]
  },
  {
   "cell_type": "code",
   "execution_count": 23,
   "id": "ad850f4c",
   "metadata": {},
   "outputs": [
    {
     "data": {
      "text/plain": [
       "array([[[0, 0, 0],\n",
       "        [0, 0, 0],\n",
       "        [0, 0, 0]],\n",
       "\n",
       "       [[0, 0, 0],\n",
       "        [0, 0, 0],\n",
       "        [0, 0, 0]],\n",
       "\n",
       "       [[0, 0, 0],\n",
       "        [0, 0, 0],\n",
       "        [0, 0, 0]]])"
      ]
     },
     "execution_count": 23,
     "metadata": {},
     "output_type": "execute_result"
    }
   ],
   "source": [
    "np.zeros((3,3,3), dtype=np.int64)"
   ]
  },
  {
   "cell_type": "code",
   "execution_count": 24,
   "id": "513f39f9",
   "metadata": {},
   "outputs": [
    {
     "data": {
      "text/plain": [
       "array([10, 12, 14, 16, 18])"
      ]
     },
     "execution_count": 24,
     "metadata": {},
     "output_type": "execute_result"
    }
   ],
   "source": [
    "np.arange(10,20, 2) # np.arange(start, stop, step)"
   ]
  },
  {
   "cell_type": "code",
   "execution_count": 25,
   "id": "d68f0962",
   "metadata": {},
   "outputs": [
    {
     "data": {
      "text/plain": [
       "array([  0.,  25.,  50.,  75., 100.])"
      ]
     },
     "execution_count": 25,
     "metadata": {},
     "output_type": "execute_result"
    }
   ],
   "source": [
    "np.linspace(0, 100, 5 )"
   ]
  },
  {
   "cell_type": "code",
   "execution_count": 26,
   "id": "1687c7ad",
   "metadata": {},
   "outputs": [
    {
     "data": {
      "text/plain": [
       "array([0, 1, 2, 3, 4, 5])"
      ]
     },
     "execution_count": 26,
     "metadata": {},
     "output_type": "execute_result"
    }
   ],
   "source": [
    "np.arange(6)"
   ]
  },
  {
   "cell_type": "code",
   "execution_count": 27,
   "id": "432a146d",
   "metadata": {},
   "outputs": [
    {
     "data": {
      "text/plain": [
       "array([[0],\n",
       "       [1],\n",
       "       [2],\n",
       "       [3],\n",
       "       [4],\n",
       "       [5]])"
      ]
     },
     "execution_count": 27,
     "metadata": {},
     "output_type": "execute_result"
    }
   ],
   "source": [
    "np.arange(0,6).reshape(-1,1)"
   ]
  },
  {
   "cell_type": "code",
   "execution_count": 28,
   "id": "e05fea3c",
   "metadata": {},
   "outputs": [
    {
     "data": {
      "text/plain": [
       "array([[1, 0, 0, 0, 0, 0, 0, 0, 0, 0],\n",
       "       [0, 1, 0, 0, 0, 0, 0, 0, 0, 0],\n",
       "       [0, 0, 1, 0, 0, 0, 0, 0, 0, 0],\n",
       "       [0, 0, 0, 1, 0, 0, 0, 0, 0, 0],\n",
       "       [0, 0, 0, 0, 1, 0, 0, 0, 0, 0],\n",
       "       [0, 0, 0, 0, 0, 1, 0, 0, 0, 0],\n",
       "       [0, 0, 0, 0, 0, 0, 1, 0, 0, 0],\n",
       "       [0, 0, 0, 0, 0, 0, 0, 1, 0, 0],\n",
       "       [0, 0, 0, 0, 0, 0, 0, 0, 1, 0],\n",
       "       [0, 0, 0, 0, 0, 0, 0, 0, 0, 1]])"
      ]
     },
     "execution_count": 28,
     "metadata": {},
     "output_type": "execute_result"
    }
   ],
   "source": [
    "np.identity(10, dtype=np.int64)  # identity matrix"
   ]
  },
  {
   "cell_type": "code",
   "execution_count": null,
   "id": "e4f4b388",
   "metadata": {},
   "outputs": [],
   "source": []
  },
  {
   "cell_type": "markdown",
   "id": "9bea819c",
   "metadata": {},
   "source": [
    "### Random numbers arrays\n",
    "\n",
    "You can create **Random number arrays** from a variety of distributions using numpy funtions and methods (great for sampling and simulation)"
   ]
  },
  {
   "cell_type": "markdown",
   "id": "9ab0ef5b",
   "metadata": {},
   "source": [
    "**default_rng** --> Creates a random number generator (The seed is for reproducibility)\n",
    "```\n",
    "from numpy.random import default_rng\n",
    "default_rng(seed)\n",
    "```\n",
    "\n",
    "**random** --> Returns n random numbers from a uniform distribution between o and 1\n",
    "```\n",
    "rng.random(n)\n",
    "```\n",
    "\n",
    "**normal** --> Returns n random numbers from a normal distribution with a given mean and standard diviation.\n",
    "```\n",
    "rng.normal(mean, stdev, n)\n",
    "```"
   ]
  },
  {
   "cell_type": "code",
   "execution_count": 29,
   "id": "884b7b3c",
   "metadata": {},
   "outputs": [],
   "source": [
    "from numpy.random import default_rng"
   ]
  },
  {
   "cell_type": "code",
   "execution_count": 30,
   "id": "eb30017e",
   "metadata": {},
   "outputs": [
    {
     "data": {
      "text/plain": [
       "Generator(PCG64) at 0x7FF8CC386C80"
      ]
     },
     "execution_count": 30,
     "metadata": {},
     "output_type": "execute_result"
    }
   ],
   "source": [
    "rng_ = np.random.default_rng(616)\n",
    "rng_"
   ]
  },
  {
   "cell_type": "code",
   "execution_count": 31,
   "id": "29a47b0c",
   "metadata": {},
   "outputs": [
    {
     "data": {
      "text/plain": [
       "array([0.39682145, 0.86568572, 0.46040359, 0.30599848, 0.57381588,\n",
       "       0.08888468, 0.88194347, 0.73228387, 0.73215182, 0.56233394])"
      ]
     },
     "execution_count": 31,
     "metadata": {},
     "output_type": "execute_result"
    }
   ],
   "source": [
    "rng_ = np.random.default_rng(616)\n",
    "rng_.random(10)"
   ]
  },
  {
   "attachments": {
    "Normal-distribution-with-three-standard-deviations-from-mean.png": {
     "image/png": "[encoded data removed]"
    }
   },
   "cell_type": "markdown",
   "id": "215aa23b",
   "metadata": {},
   "source": [
    "![Normal-distribution-with-three-standard-deviations-from-mean.png](attachment:Normal-distribution-with-three-standard-deviations-from-mean.png)"
   ]
  },
  {
   "attachments": {
    "standard-deviation-1626765925.png": {
     "image/png": "[encoded data removed]"
    }
   },
   "cell_type": "markdown",
   "id": "a8c845b7",
   "metadata": {},
   "source": [
    "![standard-deviation-1626765925.png](attachment:standard-deviation-1626765925.png)"
   ]
  },
  {
   "cell_type": "code",
   "execution_count": 32,
   "id": "6e64eb45",
   "metadata": {},
   "outputs": [
    {
     "data": {
      "text/plain": [
       "array([10.96410598,  9.6724649 , 12.17753325, 14.41179377, 11.85663923,\n",
       "       15.7999441 , 11.89176269,  9.41407032, 21.04004604, 19.76622421])"
      ]
     },
     "execution_count": 32,
     "metadata": {},
     "output_type": "execute_result"
    }
   ],
   "source": [
    "rng = default_rng(123456)\n",
    "mean, stdev = 10, 5\n",
    "random_normal = rng.normal(mean, stdev,  size=10)\n",
    "random_normal"
   ]
  },
  {
   "cell_type": "code",
   "execution_count": 33,
   "id": "9b205246",
   "metadata": {},
   "outputs": [
    {
     "data": {
      "text/plain": [
       "13.699458449260177"
      ]
     },
     "execution_count": 33,
     "metadata": {},
     "output_type": "execute_result"
    }
   ],
   "source": [
    "mean = sum(random_normal) / 10\n",
    "mean"
   ]
  },
  {
   "cell_type": "markdown",
   "id": "3fe6ab80",
   "metadata": {},
   "source": [
    "**what is deviation?**\n",
    "a difference from what is **normal or expected**, or from what is approved of by society.\n",
    "\n",
    "mean is 5 and deviation is 1 it will can deviate from 1 out of 5, if stdev=0,\n",
    "deviate is 0 out of 5."
   ]
  },
  {
   "cell_type": "code",
   "execution_count": 34,
   "id": "480feb04",
   "metadata": {},
   "outputs": [
    {
     "data": {
      "text/plain": [
       "array([0.39682145, 0.86568572, 0.46040359, 0.30599848, 0.57381588,\n",
       "       0.08888468, 0.88194347, 0.73228387, 0.73215182, 0.56233394])"
      ]
     },
     "execution_count": 34,
     "metadata": {},
     "output_type": "execute_result"
    }
   ],
   "source": [
    "rng = np.random.default_rng(616)\n",
    "\n",
    "rng.random(10)"
   ]
  },
  {
   "cell_type": "code",
   "execution_count": 35,
   "id": "14424858",
   "metadata": {},
   "outputs": [
    {
     "data": {
      "text/plain": [
       "array([98, 93, 96, 90, 93, 93, 91, 92, 92, 94, 99, 91, 92, 95, 91, 98, 99,\n",
       "       90, 93, 91, 95, 98, 90, 96, 91, 97, 90, 97, 96, 90, 93, 97, 91, 99,\n",
       "       94, 91, 96, 91, 94, 94, 99, 95, 93, 94, 97, 98, 93, 93, 95, 90, 94,\n",
       "       99, 99, 95, 96, 95, 98, 92, 93, 90, 90, 98, 93, 98, 94, 98, 98, 99,\n",
       "       97, 93, 98, 94, 99, 92, 96, 93, 90, 93, 92, 90, 90, 94, 99, 95, 94,\n",
       "       91, 98, 92, 97, 97, 91, 92, 92, 94, 91, 96, 97, 93, 97, 95])"
      ]
     },
     "execution_count": 35,
     "metadata": {},
     "output_type": "execute_result"
    }
   ],
   "source": [
    "rng.integers(90, 100, 100)"
   ]
  },
  {
   "cell_type": "code",
   "execution_count": 36,
   "id": "513af310",
   "metadata": {},
   "outputs": [
    {
     "data": {
      "text/plain": [
       "101.14375986862039"
      ]
     },
     "execution_count": 36,
     "metadata": {},
     "output_type": "execute_result"
    }
   ],
   "source": [
    "sum(rng.normal(10, 1, 10))"
   ]
  },
  {
   "cell_type": "code",
   "execution_count": 37,
   "id": "def9c17a",
   "metadata": {},
   "outputs": [
    {
     "data": {
      "text/plain": [
       "array([ 8.90126042,  8.77130017,  9.64371971,  9.42893224, 10.27667975,\n",
       "       11.1751481 ,  7.34001406, 10.16522934, 10.82846239, 10.29981203])"
      ]
     },
     "execution_count": 37,
     "metadata": {},
     "output_type": "execute_result"
    }
   ],
   "source": [
    "rng.normal(10, 1, 10)"
   ]
  },
  {
   "cell_type": "markdown",
   "id": "baaff71d",
   "metadata": {},
   "source": [
    "## Assignment"
   ]
  },
  {
   "cell_type": "code",
   "execution_count": 38,
   "id": "dfd4a25d",
   "metadata": {},
   "outputs": [
    {
     "data": {
      "text/plain": [
       "array([[10., 22.],\n",
       "       [34., 46.],\n",
       "       [58., 70.],\n",
       "       [82., 94.]])"
      ]
     },
     "execution_count": 38,
     "metadata": {},
     "output_type": "execute_result"
    }
   ],
   "source": [
    "array = np.arange(10, 101, 12, dtype=float)\n",
    "array.reshape(4, 2)\n",
    "# array"
   ]
  },
  {
   "cell_type": "code",
   "execution_count": 39,
   "id": "ed8feee8",
   "metadata": {},
   "outputs": [
    {
     "data": {
      "text/plain": [
       "array([[0.68235186, 0.05382102, 0.22035987],\n",
       "       [0.18437181, 0.1759059 , 0.81209451],\n",
       "       [0.923345  , 0.2765744 , 0.81975456]])"
      ]
     },
     "execution_count": 39,
     "metadata": {},
     "output_type": "execute_result"
    }
   ],
   "source": [
    "rng = np.random.default_rng(123)\n",
    "random_array = rng.random(9).reshape(3, 3)\n",
    "random_array"
   ]
  },
  {
   "cell_type": "markdown",
   "id": "c8cb2b84",
   "metadata": {},
   "source": [
    "## Tutorial Solution"
   ]
  },
  {
   "cell_type": "code",
   "execution_count": 40,
   "id": "169cc842",
   "metadata": {},
   "outputs": [
    {
     "data": {
      "text/plain": [
       "array([[ 10.        ,  14.73684211,  19.47368421,  24.21052632],\n",
       "       [ 28.94736842,  33.68421053,  38.42105263,  43.15789474],\n",
       "       [ 47.89473684,  52.63157895,  57.36842105,  62.10526316],\n",
       "       [ 66.84210526,  71.57894737,  76.31578947,  81.05263158],\n",
       "       [ 85.78947368,  90.52631579,  95.26315789, 100.        ]])"
      ]
     },
     "execution_count": 40,
     "metadata": {},
     "output_type": "execute_result"
    }
   ],
   "source": [
    "my_array = np.linspace(10, 100, 20).reshape(5, 4)\n",
    "my_array"
   ]
  },
  {
   "cell_type": "code",
   "execution_count": 41,
   "id": "f978b7ad",
   "metadata": {},
   "outputs": [
    {
     "data": {
      "text/plain": [
       "array([[0.70693517, 0.24742603, 0.74923706],\n",
       "       [0.09299004, 0.18847346, 0.61176336],\n",
       "       [0.93647265, 0.06066203, 0.06538081]], dtype=float32)"
      ]
     },
     "execution_count": 41,
     "metadata": {},
     "output_type": "execute_result"
    }
   ],
   "source": [
    "rng = np.random.default_rng(2022)\n",
    "random_array = rng.random(9, dtype=np.float32).reshape(3, 3) # rng.normal(mean, stdev, n)\n",
    "random_array"
   ]
  },
  {
   "cell_type": "markdown",
   "id": "fa904ccc",
   "metadata": {},
   "source": [
    "**Why do we set seed?**   \n",
    "         The use of set. ```seed is to make sure that we get the same results for randomization```. If we randomly select some observations for any task in R or in any statistical software it results in different values all the time and this happens because of randomization."
   ]
  },
  {
   "cell_type": "code",
   "execution_count": 42,
   "id": "e91a0c56",
   "metadata": {},
   "outputs": [
    {
     "data": {
      "text/plain": [
       "array([[0.24742606, 0.09299006, 0.61176337],\n",
       "       [0.06066207, 0.66103343, 0.75515778],\n",
       "       [0.1108689 , 0.04305584, 0.41441747]])"
      ]
     },
     "execution_count": 42,
     "metadata": {},
     "output_type": "execute_result"
    }
   ],
   "source": [
    "rng = np.random.default_rng(2022)\n",
    "random_array = rng.random(9).reshape(3, 3)\n",
    "random_array"
   ]
  },
  {
   "cell_type": "code",
   "execution_count": 43,
   "id": "69e75d78",
   "metadata": {},
   "outputs": [
    {
     "data": {
      "text/plain": [
       "array([[0.22733602, 0.31675834, 0.79736546],\n",
       "       [0.67625467, 0.39110955, 0.33281393],\n",
       "       [0.59830875, 0.18673419, 0.67275604]])"
      ]
     },
     "execution_count": 43,
     "metadata": {},
     "output_type": "execute_result"
    }
   ],
   "source": [
    "rng = np.random.default_rng(12345)\n",
    "random_array = rng.random(9).reshape(3, 3)\n",
    "random_array"
   ]
  },
  {
   "cell_type": "markdown",
   "id": "80d7da31",
   "metadata": {},
   "source": [
    "## Indexing and slicing arrays"
   ]
  },
  {
   "cell_type": "markdown",
   "id": "40f20853",
   "metadata": {},
   "source": [
    "Indexing & slicing one dimensional arrays is the same as base python\n",
    "* array[index] - indexing to access a single element (0 - indexed)\n",
    "* array[start:stop:step] - slicing to access a series of elements (stop is not inclusinve)"
   ]
  },
  {
   "cell_type": "code",
   "execution_count": 44,
   "id": "8ed0088e",
   "metadata": {},
   "outputs": [
    {
     "data": {
      "text/plain": [
       "array(['fruits', 'vegetables', 'cereal', 'dairy', 'eggs', 'snacks',\n",
       "       'beverages', 'coffee', 'tea', 'spices'], dtype='<U10')"
      ]
     },
     "execution_count": 44,
     "metadata": {},
     "output_type": "execute_result"
    }
   ],
   "source": [
    "product_array = np.array(['fruits', 'vegetables', 'cereal', 'dairy', 'eggs', \n",
    "                        'snacks','beverages', 'coffee', 'tea', 'spices'])\n",
    "product_array"
   ]
  },
  {
   "cell_type": "code",
   "execution_count": 45,
   "id": "2c6237d5",
   "metadata": {},
   "outputs": [
    {
     "name": "stdout",
     "output_type": "stream",
     "text": [
      "vegetables\n",
      "spices\n",
      "fruits\n"
     ]
    }
   ],
   "source": [
    "print(product_array[1])\n",
    "print(product_array[-1]) # negative index call from the reverse\n",
    "print(product_array[0])"
   ]
  },
  {
   "cell_type": "code",
   "execution_count": 46,
   "id": "6b3f15f7",
   "metadata": {},
   "outputs": [
    {
     "data": {
      "text/plain": [
       "array(['fruits', 'vegetables', 'cereal', 'dairy', 'eggs'], dtype='<U10')"
      ]
     },
     "execution_count": 46,
     "metadata": {},
     "output_type": "execute_result"
    }
   ],
   "source": [
    "product_array[:5] # start : 0 (default), stop: 5, step : 1 (default)"
   ]
  },
  {
   "cell_type": "code",
   "execution_count": 47,
   "id": "b575f697",
   "metadata": {},
   "outputs": [
    {
     "data": {
      "text/plain": [
       "array(['snacks', 'coffee', 'spices'], dtype='<U10')"
      ]
     },
     "execution_count": 47,
     "metadata": {},
     "output_type": "execute_result"
    }
   ],
   "source": [
    "product_array[5::2]"
   ]
  },
  {
   "cell_type": "code",
   "execution_count": 48,
   "id": "ecc0d90e",
   "metadata": {},
   "outputs": [
    {
     "data": {
      "text/plain": [
       "array(['spices', 'tea', 'coffee'], dtype='<U10')"
      ]
     },
     "execution_count": 48,
     "metadata": {},
     "output_type": "execute_result"
    }
   ],
   "source": [
    "product_array[-1:-4:-1] # reverse the array"
   ]
  },
  {
   "cell_type": "markdown",
   "id": "317df302",
   "metadata": {},
   "source": [
    "#### Slicing 2 - dimentiona array"
   ]
  },
  {
   "cell_type": "markdown",
   "id": "35fdfe6c",
   "metadata": {},
   "source": [
    "* array[row index, column index]\n",
    "* array[start:stop:step, start:stop:step]"
   ]
  },
  {
   "cell_type": "code",
   "execution_count": 49,
   "id": "af6a8ccb",
   "metadata": {},
   "outputs": [
    {
     "data": {
      "text/plain": [
       "array([['fruits', 'vegetables', 'cereal', 'dairy', 'eggs'],\n",
       "       ['snacks', 'beverages', 'coffee', 'tea', 'spices']], dtype='<U10')"
      ]
     },
     "execution_count": 49,
     "metadata": {},
     "output_type": "execute_result"
    }
   ],
   "source": [
    "product_array2D = product_array.reshape(2, 5)\n",
    "product_array2D"
   ]
  },
  {
   "cell_type": "code",
   "execution_count": 50,
   "id": "b3633281",
   "metadata": {},
   "outputs": [
    {
     "data": {
      "text/plain": [
       "array([['fruits', 'vegetables', 'cereal', 'dairy', 'eggs'],\n",
       "       ['snacks', 'beverages', 'coffee', 'tea', 'Antony']], dtype='<U10')"
      ]
     },
     "execution_count": 50,
     "metadata": {},
     "output_type": "execute_result"
    }
   ],
   "source": [
    "product_array2D[1, 4]='Antony'# secod row and third column\n",
    "product_array2D"
   ]
  },
  {
   "cell_type": "code",
   "execution_count": 51,
   "id": "5e21572b",
   "metadata": {},
   "outputs": [
    {
     "data": {
      "text/plain": [
       "array([['fruits', 'vegetables', 'cereal', 'dairy', 'eggs'],\n",
       "       ['snacks', 'beverages', 'coffee', 'tea', 'Antony']], dtype='<U10')"
      ]
     },
     "execution_count": 51,
     "metadata": {},
     "output_type": "execute_result"
    }
   ],
   "source": [
    "product_array2D"
   ]
  },
  {
   "cell_type": "code",
   "execution_count": 52,
   "id": "0ce2e981",
   "metadata": {},
   "outputs": [
    {
     "data": {
      "text/plain": [
       "array([['cereal', 'dairy']], dtype='<U10')"
      ]
     },
     "execution_count": 52,
     "metadata": {},
     "output_type": "execute_result"
    }
   ],
   "source": [
    "product_array2D[0:1, 2:4] # start : 0 (default), stop : length of row or colum (default)"
   ]
  },
  {
   "cell_type": "markdown",
   "id": "51a93c2d",
   "metadata": {},
   "source": [
    "## Assignment"
   ]
  },
  {
   "cell_type": "code",
   "execution_count": 53,
   "id": "aba308aa",
   "metadata": {},
   "outputs": [
    {
     "data": {
      "text/plain": [
       "array([[0.24742606, 0.09299006, 0.61176337],\n",
       "       [0.06066207, 0.66103343, 0.75515778],\n",
       "       [0.1108689 , 0.04305584, 0.41441747]])"
      ]
     },
     "execution_count": 53,
     "metadata": {},
     "output_type": "execute_result"
    }
   ],
   "source": [
    "rng = np.random.default_rng(2022)\n",
    "random_array = rng.random(9).reshape(3, 3)\n",
    "random_array"
   ]
  },
  {
   "cell_type": "code",
   "execution_count": 54,
   "id": "12e9fca4",
   "metadata": {},
   "outputs": [
    {
     "data": {
      "text/plain": [
       "array([[0.24742606, 0.09299006, 0.61176337],\n",
       "       [0.06066207, 0.66103343, 0.75515778]])"
      ]
     },
     "execution_count": 54,
     "metadata": {},
     "output_type": "execute_result"
    }
   ],
   "source": [
    "random_array[:2, :] # first 2 rows"
   ]
  },
  {
   "cell_type": "code",
   "execution_count": 55,
   "id": "25cca1c4",
   "metadata": {},
   "outputs": [
    {
     "data": {
      "text/plain": [
       "array([0.09299006, 0.66103343, 0.04305584])"
      ]
     },
     "execution_count": 55,
     "metadata": {},
     "output_type": "execute_result"
    }
   ],
   "source": [
    "random_array[:, 1] # first 1 column"
   ]
  },
  {
   "cell_type": "code",
   "execution_count": 56,
   "id": "3b9a092c",
   "metadata": {},
   "outputs": [
    {
     "data": {
      "text/plain": [
       "array([0.75515778, 0.41441747])"
      ]
     },
     "execution_count": 56,
     "metadata": {},
     "output_type": "execute_result"
    }
   ],
   "source": [
    "random_array[1:, 2] # second number in third column"
   ]
  },
  {
   "cell_type": "code",
   "execution_count": 57,
   "id": "ffcd7db4",
   "metadata": {},
   "outputs": [
    {
     "data": {
      "text/plain": [
       "0.41441747385528926"
      ]
     },
     "execution_count": 57,
     "metadata": {},
     "output_type": "execute_result"
    }
   ],
   "source": [
    "random_array[2, 2]"
   ]
  },
  {
   "cell_type": "markdown",
   "id": "942bcffd",
   "metadata": {},
   "source": [
    "## Array Operations "
   ]
  },
  {
   "cell_type": "markdown",
   "id": "ec7b027e",
   "metadata": {},
   "source": [
    "Arithmetic operators can be used to perform array operations\n"
   ]
  },
  {
   "cell_type": "code",
   "execution_count": 58,
   "id": "914946ef",
   "metadata": {},
   "outputs": [],
   "source": [
    "sales = [[1, 2, 3, 4, 5], [1, 2, 3, 4, 5]]"
   ]
  },
  {
   "cell_type": "code",
   "execution_count": 59,
   "id": "e13e2b76",
   "metadata": {},
   "outputs": [
    {
     "data": {
      "text/plain": [
       "array([[1, 2, 3, 4, 5],\n",
       "       [1, 2, 3, 4, 5]])"
      ]
     },
     "execution_count": 59,
     "metadata": {},
     "output_type": "execute_result"
    }
   ],
   "source": [
    "sales_array = np.array(sales)\n",
    "sales_array"
   ]
  },
  {
   "cell_type": "markdown",
   "id": "a6b2ee57",
   "metadata": {},
   "source": [
    "Consider this is a sales invoice I want to add GST in all product sales\n",
    "like ₹2 in all cost"
   ]
  },
  {
   "cell_type": "code",
   "execution_count": 60,
   "id": "832ac42d",
   "metadata": {},
   "outputs": [
    {
     "data": {
      "text/plain": [
       "array([[3, 4, 5, 6, 7],\n",
       "       [3, 4, 5, 6, 7]])"
      ]
     },
     "execution_count": 60,
     "metadata": {},
     "output_type": "execute_result"
    }
   ],
   "source": [
    "sales_array + 2\n",
    "#sales_array  # Numpy Arrays are mutable, which means that you can change the value of an element in the array after an array has been initialized."
   ]
  },
  {
   "cell_type": "code",
   "execution_count": 61,
   "id": "327ae6b4",
   "metadata": {},
   "outputs": [
    {
     "data": {
      "text/plain": [
       "array([1, 2, 3, 4, 5])"
      ]
     },
     "execution_count": 61,
     "metadata": {},
     "output_type": "execute_result"
    }
   ],
   "source": [
    "sales_array[0, :]"
   ]
  },
  {
   "cell_type": "code",
   "execution_count": 62,
   "id": "8346abf1",
   "metadata": {},
   "outputs": [
    {
     "name": "stdout",
     "output_type": "stream",
     "text": [
      "[1 2 3 4 5]\n",
      "[1 2 3 4 5]\n"
     ]
    },
    {
     "data": {
      "text/plain": [
       "array([ 1,  4,  9, 16, 25])"
      ]
     },
     "execution_count": 62,
     "metadata": {},
     "output_type": "execute_result"
    }
   ],
   "source": [
    "quantity = sales_array[0, :]\n",
    "price = sales_array[1, :]\n",
    "print(quantity)\n",
    "print(price)\n",
    "\n",
    "quantity * price"
   ]
  },
  {
   "cell_type": "markdown",
   "id": "1833fb6a",
   "metadata": {},
   "source": [
    "#### Append"
   ]
  },
  {
   "cell_type": "code",
   "execution_count": 63,
   "id": "8066b967",
   "metadata": {},
   "outputs": [
    {
     "data": {
      "text/plain": [
       "array([[ 1,  2,  3,  4,  5],\n",
       "       [ 1,  2,  3,  4,  5],\n",
       "       [10, 11, 12, 13, 14]])"
      ]
     },
     "execution_count": 63,
     "metadata": {},
     "output_type": "execute_result"
    }
   ],
   "source": [
    "# sales.np.append(np.arange(1,6))\n",
    "np.append(sales_array,[np.arange(10,15)],axis= 0)"
   ]
  },
  {
   "cell_type": "code",
   "execution_count": 64,
   "id": "7cfa8230",
   "metadata": {},
   "outputs": [
    {
     "data": {
      "text/plain": [
       "array([[   1,    2,    3,    4,    5],\n",
       "       [   1, 2000,    3,    4,    5]])"
      ]
     },
     "execution_count": 64,
     "metadata": {},
     "output_type": "execute_result"
    }
   ],
   "source": [
    "sales_array[1,1] = 2000  # inditual element is mutable\n",
    "sales_array"
   ]
  },
  {
   "cell_type": "code",
   "execution_count": 65,
   "id": "c2551993",
   "metadata": {},
   "outputs": [
    {
     "data": {
      "text/plain": [
       "array([[   3,    4,    5,    6,    7],\n",
       "       [   3, 2002,    5,    6,    7]])"
      ]
     },
     "execution_count": 65,
     "metadata": {},
     "output_type": "execute_result"
    }
   ],
   "source": [
    "sales_array += 2 # this operations is  mutable\n",
    "sales_array"
   ]
  },
  {
   "cell_type": "markdown",
   "id": "d9d21fd0",
   "metadata": {},
   "source": [
    "#### rng.integers(start_range, stop_range, n)"
   ]
  },
  {
   "cell_type": "code",
   "execution_count": 66,
   "id": "b331b50b",
   "metadata": {},
   "outputs": [
    {
     "data": {
      "text/plain": [
       "array([1, 1, 4, 4, 2, 2, 2, 1, 0, 2])"
      ]
     },
     "execution_count": 66,
     "metadata": {},
     "output_type": "execute_result"
    }
   ],
   "source": [
    "rng = np.random.default_rng(616)\n",
    "\n",
    "inventory = rng.integers(0, 5, 10)\n",
    "inventory"
   ]
  },
  {
   "cell_type": "code",
   "execution_count": 67,
   "id": "a5de6974",
   "metadata": {},
   "outputs": [
    {
     "data": {
      "text/plain": [
       "array([ -9,  -9,  -6,  -6,  -8,  -8,  -8,  -9, -10,  -8])"
      ]
     },
     "execution_count": 67,
     "metadata": {},
     "output_type": "execute_result"
    }
   ],
   "source": [
    "inventory - 10"
   ]
  },
  {
   "cell_type": "code",
   "execution_count": 68,
   "id": "c98bc861",
   "metadata": {},
   "outputs": [
    {
     "data": {
      "text/plain": [
       "array([0.5, 0.5, 2. , 2. , 1. , 1. , 1. , 0.5, 0. , 1. ])"
      ]
     },
     "execution_count": 68,
     "metadata": {},
     "output_type": "execute_result"
    }
   ],
   "source": [
    "inventory / 2"
   ]
  },
  {
   "cell_type": "code",
   "execution_count": 69,
   "id": "ac1664db",
   "metadata": {},
   "outputs": [
    {
     "data": {
      "text/plain": [
       "array([0.889, 8.819, 7.323, 7.322, 5.623, 3.397, 0.625, 3.571, 2.025,\n",
       "       4.305])"
      ]
     },
     "execution_count": 69,
     "metadata": {},
     "output_type": "execute_result"
    }
   ],
   "source": [
    "price = (rng.random(10) *10).round(3)\n",
    "price"
   ]
  },
  {
   "cell_type": "code",
   "execution_count": 70,
   "id": "89b41e11",
   "metadata": {},
   "outputs": [
    {
     "data": {
      "text/plain": [
       "array([ 0.889,  8.819, 29.292, 29.288, 11.246,  6.794,  1.25 ,  3.571,\n",
       "        0.   ,  8.61 ])"
      ]
     },
     "execution_count": 70,
     "metadata": {},
     "output_type": "execute_result"
    }
   ],
   "source": [
    "price * inventory"
   ]
  },
  {
   "cell_type": "code",
   "execution_count": 71,
   "id": "de382cad",
   "metadata": {},
   "outputs": [
    {
     "data": {
      "text/plain": [
       "99.75899999999999"
      ]
     },
     "execution_count": 71,
     "metadata": {},
     "output_type": "execute_result"
    }
   ],
   "source": [
    "sum(price * inventory)"
   ]
  },
  {
   "cell_type": "code",
   "execution_count": 72,
   "id": "1895a3f7",
   "metadata": {},
   "outputs": [
    {
     "data": {
      "text/plain": [
       "[1, 1, 4, 4, 2, 2, 2, 1, 0, 2]"
      ]
     },
     "execution_count": 72,
     "metadata": {},
     "output_type": "execute_result"
    }
   ],
   "source": [
    "inventory_list = list(inventory)\n",
    "inventory_list"
   ]
  },
  {
   "cell_type": "markdown",
   "id": "0c454b23",
   "metadata": {},
   "source": [
    "#### If you doing array arithmetic operations in python list is shows error"
   ]
  },
  {
   "cell_type": "code",
   "execution_count": 73,
   "id": "279eedb1",
   "metadata": {},
   "outputs": [
    {
     "data": {
      "text/plain": [
       "array([3, 3, 6, 6, 4, 4, 4, 3, 2, 4])"
      ]
     },
     "execution_count": 73,
     "metadata": {},
     "output_type": "execute_result"
    }
   ],
   "source": [
    "np.array(inventory_list) + 2"
   ]
  },
  {
   "cell_type": "code",
   "execution_count": 74,
   "id": "7c3200a0",
   "metadata": {},
   "outputs": [
    {
     "data": {
      "text/plain": [
       "[3, 3, 6, 6, 4, 4, 4, 3, 2, 4]"
      ]
     },
     "execution_count": 74,
     "metadata": {},
     "output_type": "execute_result"
    }
   ],
   "source": [
    "new_inventory = []\n",
    "for x in inventory_list:\n",
    "    new_inventory.append(x + 2)\n",
    "new_inventory"
   ]
  },
  {
   "cell_type": "code",
   "execution_count": 75,
   "id": "87801b7f",
   "metadata": {
    "scrolled": true
   },
   "outputs": [
    {
     "data": {
      "text/plain": [
       "[3, 3, 6, 6, 4, 4, 4, 3, 2, 4]"
      ]
     },
     "execution_count": 75,
     "metadata": {},
     "output_type": "execute_result"
    }
   ],
   "source": [
    "[x + 2 for x in inventory_list]"
   ]
  },
  {
   "cell_type": "code",
   "execution_count": 76,
   "id": "b0a1588a",
   "metadata": {},
   "outputs": [
    {
     "name": "stdout",
     "output_type": "stream",
     "text": [
      "[1, 1, 4, 4, 2, 2, 2, 1, 0, 2]\n",
      "[0.889 8.819 7.323 7.322 5.623 3.397 0.625 3.571 2.025 4.305]\n"
     ]
    },
    {
     "data": {
      "text/plain": [
       "[0.889, 8.819, 29.292, 29.288, 11.246, 6.794, 1.25, 3.571, 0.0, 8.61]"
      ]
     },
     "execution_count": 76,
     "metadata": {},
     "output_type": "execute_result"
    }
   ],
   "source": [
    "print(inventory_list)\n",
    "print(price)\n",
    "\n",
    "[x * y for x, y in zip(inventory_list, price)]"
   ]
  },
  {
   "cell_type": "code",
   "execution_count": 77,
   "id": "dcdb9989",
   "metadata": {},
   "outputs": [
    {
     "data": {
      "text/plain": [
       "[(1, 0.889),\n",
       " (1, 8.819),\n",
       " (4, 7.323),\n",
       " (4, 7.322),\n",
       " (2, 5.623),\n",
       " (2, 3.397),\n",
       " (2, 0.625),\n",
       " (1, 3.571),\n",
       " (0, 2.025),\n",
       " (2, 4.305)]"
      ]
     },
     "execution_count": 77,
     "metadata": {},
     "output_type": "execute_result"
    }
   ],
   "source": [
    "list(zip(inventory_list, price))"
   ]
  },
  {
   "cell_type": "markdown",
   "id": "05729b49",
   "metadata": {},
   "source": [
    "### Assignment"
   ]
  },
  {
   "cell_type": "code",
   "execution_count": 78,
   "id": "d97dca1b",
   "metadata": {},
   "outputs": [
    {
     "data": {
      "text/plain": [
       "array([[0.24742606, 0.09299006, 0.61176337],\n",
       "       [0.06066207, 0.66103343, 0.75515778],\n",
       "       [0.1108689 , 0.04305584, 0.41441747]])"
      ]
     },
     "execution_count": 78,
     "metadata": {},
     "output_type": "execute_result"
    }
   ],
   "source": [
    "random_array"
   ]
  },
  {
   "cell_type": "code",
   "execution_count": 79,
   "id": "bbedcc6b",
   "metadata": {},
   "outputs": [
    {
     "data": {
      "text/plain": [
       "array([ 10.99,  11.99,  27.99, 104.99,   9.99,  54.99])"
      ]
     },
     "execution_count": 79,
     "metadata": {},
     "output_type": "execute_result"
    }
   ],
   "source": [
    "prices = np.array([5.99, 6.99, 22.99, 99.99, 4.99, 49.99])\n",
    "\n",
    "total = prices + 5\n",
    "total"
   ]
  },
  {
   "cell_type": "code",
   "execution_count": 80,
   "id": "5da80164",
   "metadata": {},
   "outputs": [
    {
     "data": {
      "text/plain": [
       "array([ 2.72,  1.11, 17.12,  6.37,  6.6 , 41.53])"
      ]
     },
     "execution_count": 80,
     "metadata": {},
     "output_type": "execute_result"
    }
   ],
   "source": [
    "discount_pct = random_array[:2, :].reshape(6)\n",
    "\n",
    "pct_owed = 1 - discount_pct\n",
    "\n",
    "final_owed = total * discount_pct\n",
    "final_owed.round(2)"
   ]
  },
  {
   "cell_type": "code",
   "execution_count": 81,
   "id": "7eb1c9f3",
   "metadata": {},
   "outputs": [
    {
     "data": {
      "text/plain": [
       "array([ 8.27, 10.88, 10.87, 98.62,  3.39, 13.46])"
      ]
     },
     "execution_count": 81,
     "metadata": {},
     "output_type": "execute_result"
    }
   ],
   "source": [
    "((1 - (random_array[:2, :].reshape(6))) * total).round(2)"
   ]
  },
  {
   "cell_type": "code",
   "execution_count": 82,
   "id": "c7c38e77",
   "metadata": {
    "scrolled": false
   },
   "outputs": [
    {
     "name": "stdout",
     "output_type": "stream",
     "text": [
      "[0.24742606 0.09299006 0.61176337 0.06066207 0.66103343 0.75515778]\n",
      "[0.75257394 0.90700994 0.38823663 0.93933793 0.33896657 0.24484222]\n",
      "[ 2.72  1.11 17.12  6.37  6.6  41.53]\n"
     ]
    }
   ],
   "source": [
    "print(discount_pct)\n",
    "print(pct_owed)\n",
    "print(final_owed.round(2))"
   ]
  },
  {
   "cell_type": "markdown",
   "id": "64978389",
   "metadata": {},
   "source": [
    "### Filtering arrays"
   ]
  },
  {
   "cell_type": "markdown",
   "id": "98423840",
   "metadata": {},
   "source": [
    "You can filter arrays by indexing them with a logical test\n",
    "* Only the array elements in positions where the logical test returns True are returned"
   ]
  },
  {
   "cell_type": "code",
   "execution_count": 83,
   "id": "1445b983",
   "metadata": {},
   "outputs": [
    {
     "data": {
      "text/plain": [
       "array([[   0,    5,  155,    0,  518],\n",
       "       [   0, 1827,  616,  317,  325]])"
      ]
     },
     "execution_count": 83,
     "metadata": {},
     "output_type": "execute_result"
    }
   ],
   "source": [
    "sales_array = np.array([[0, 5, 155, 0, 518],\n",
    "                       [0, 1827, 616, 317, 325]])\n",
    "sales_array"
   ]
  },
  {
   "cell_type": "markdown",
   "id": "bde5bc43",
   "metadata": {},
   "source": [
    "###### Logical test in array"
   ]
  },
  {
   "cell_type": "code",
   "execution_count": 84,
   "id": "83c47f7b",
   "metadata": {},
   "outputs": [
    {
     "data": {
      "text/plain": [
       "array([[False,  True,  True, False,  True],\n",
       "       [False,  True,  True,  True,  True]])"
      ]
     },
     "execution_count": 84,
     "metadata": {},
     "output_type": "execute_result"
    }
   ],
   "source": [
    "sales_array != 0"
   ]
  },
  {
   "cell_type": "code",
   "execution_count": 85,
   "id": "93e5f682",
   "metadata": {},
   "outputs": [
    {
     "data": {
      "text/plain": [
       "array([  0,   5,   0,   0, 616])"
      ]
     },
     "execution_count": 85,
     "metadata": {},
     "output_type": "execute_result"
    }
   ],
   "source": [
    "sales_array[(sales_array == 616) | (sales_array < 100)] # |\tOR\tSets each bit to 1 if one of two bits is 1"
   ]
  },
  {
   "cell_type": "code",
   "execution_count": 86,
   "id": "312b4c3e",
   "metadata": {},
   "outputs": [
    {
     "data": {
      "text/plain": [
       "array([[   0,    5,  155,    0,  518],\n",
       "       [   0, 1827,  616,  317,  325]])"
      ]
     },
     "execution_count": 86,
     "metadata": {},
     "output_type": "execute_result"
    }
   ],
   "source": [
    "sales_array"
   ]
  },
  {
   "cell_type": "code",
   "execution_count": 87,
   "id": "4bf69d35",
   "metadata": {},
   "outputs": [
    {
     "data": {
      "text/plain": [
       "array([[   0,    5,  155,    0,  518],\n",
       "       [   0, 1827,  616,  317,  325],\n",
       "       [  10,   11,   12,   13,   14]])"
      ]
     },
     "execution_count": 87,
     "metadata": {},
     "output_type": "execute_result"
    }
   ],
   "source": [
    "np.append(sales_array,[np.arange(10,15)],axis= 0)"
   ]
  },
  {
   "cell_type": "code",
   "execution_count": 88,
   "id": "1d2e17a5",
   "metadata": {},
   "outputs": [],
   "source": [
    "sales_array[1,1] = 200\n"
   ]
  },
  {
   "cell_type": "code",
   "execution_count": 89,
   "id": "64cd69e4",
   "metadata": {},
   "outputs": [
    {
     "data": {
      "text/plain": [
       "array([  0, 200, 616, 317, 325])"
      ]
     },
     "execution_count": 89,
     "metadata": {},
     "output_type": "execute_result"
    }
   ],
   "source": [
    "sales_array[1]\n"
   ]
  },
  {
   "cell_type": "code",
   "execution_count": 90,
   "id": "98d49c58",
   "metadata": {},
   "outputs": [],
   "source": [
    "my_array = np.array([])"
   ]
  },
  {
   "cell_type": "code",
   "execution_count": 91,
   "id": "d4f3e26b",
   "metadata": {},
   "outputs": [
    {
     "data": {
      "text/plain": [
       "array([], dtype=float64)"
      ]
     },
     "execution_count": 91,
     "metadata": {},
     "output_type": "execute_result"
    }
   ],
   "source": [
    "my_array"
   ]
  },
  {
   "cell_type": "code",
   "execution_count": 92,
   "id": "8e1790f1",
   "metadata": {},
   "outputs": [
    {
     "data": {
      "text/plain": [
       "array([[0, 0, 0, 0],\n",
       "       [0, 0, 0, 0],\n",
       "       [0, 0, 0, 0]])"
      ]
     },
     "execution_count": 92,
     "metadata": {},
     "output_type": "execute_result"
    }
   ],
   "source": [
    "np.zeros((3, 4), dtype=int)"
   ]
  },
  {
   "cell_type": "code",
   "execution_count": 93,
   "id": "1e71508c",
   "metadata": {},
   "outputs": [
    {
     "data": {
      "text/plain": [
       "array([[1, 1, 1, 1],\n",
       "       [1, 1, 1, 1],\n",
       "       [1, 1, 1, 1]])"
      ]
     },
     "execution_count": 93,
     "metadata": {},
     "output_type": "execute_result"
    }
   ],
   "source": [
    "np.ones((3, 4), dtype=int)"
   ]
  },
  {
   "cell_type": "markdown",
   "id": "2fda1cf9",
   "metadata": {},
   "source": [
    "### np.full                        "
   ]
  },
  {
   "cell_type": "markdown",
   "id": "6e9e0ed8",
   "metadata": {},
   "source": [
    "**To add perticular value in all indexes**    `np.full((row, col),value)`"
   ]
  },
  {
   "cell_type": "code",
   "execution_count": 94,
   "id": "5b5168d0",
   "metadata": {},
   "outputs": [
    {
     "data": {
      "text/plain": [
       "array([[10, 10, 10, 10, 10],\n",
       "       [10, 10, 10, 10, 10],\n",
       "       [10, 10, 10, 10, 10],\n",
       "       [10, 10, 10, 10, 10],\n",
       "       [10, 10, 10, 10, 10]])"
      ]
     },
     "execution_count": 94,
     "metadata": {},
     "output_type": "execute_result"
    }
   ],
   "source": [
    "np.full((5,5),10)  "
   ]
  },
  {
   "cell_type": "code",
   "execution_count": 95,
   "id": "ef58d8f8",
   "metadata": {},
   "outputs": [
    {
     "data": {
      "text/plain": [
       "array([ 0,  1,  2,  3,  4,  5,  6,  7,  8,  9, 10, 11, 12, 13, 14, 15, 16,\n",
       "       17, 18, 19])"
      ]
     },
     "execution_count": 95,
     "metadata": {},
     "output_type": "execute_result"
    }
   ],
   "source": [
    "my_array = np.arange(20)\n",
    "my_array"
   ]
  },
  {
   "cell_type": "code",
   "execution_count": 96,
   "id": "73980e22",
   "metadata": {},
   "outputs": [
    {
     "data": {
      "text/plain": [
       "array([ True, False,  True, False,  True, False,  True, False,  True,\n",
       "       False,  True, False,  True, False,  True, False,  True, False,\n",
       "        True, False])"
      ]
     },
     "execution_count": 96,
     "metadata": {},
     "output_type": "execute_result"
    }
   ],
   "source": [
    "my_array % 2 == 0"
   ]
  },
  {
   "cell_type": "code",
   "execution_count": 97,
   "id": "52bc0223",
   "metadata": {},
   "outputs": [
    {
     "data": {
      "text/plain": [
       "array([ 0,  2,  4,  6,  8, 10, 12, 14, 16, 18])"
      ]
     },
     "execution_count": 97,
     "metadata": {},
     "output_type": "execute_result"
    }
   ],
   "source": [
    "my_array[my_array % 2 == 0]"
   ]
  },
  {
   "cell_type": "code",
   "execution_count": 98,
   "id": "9e77b222",
   "metadata": {},
   "outputs": [
    {
     "data": {
      "text/plain": [
       "array(['even', 'odd', 'even', 'odd', 'even', 'odd', 'even', 'odd', 'even',\n",
       "       'odd', 'even', 'odd', 'even', 'odd', 'even', 'odd', 'even', 'odd',\n",
       "       'even', 'odd'], dtype='<U4')"
      ]
     },
     "execution_count": 98,
     "metadata": {},
     "output_type": "execute_result"
    }
   ],
   "source": [
    "even_odd = np.array(['even', 'odd'] * 10)\n",
    "even_odd"
   ]
  },
  {
   "cell_type": "code",
   "execution_count": 99,
   "id": "2fd273c2",
   "metadata": {},
   "outputs": [],
   "source": [
    "my_array_2d = np.arange(10).reshape(2,5)\n",
    "my_array_2d * 2\n",
    "\n",
    "my = np.array([[1],[1]])\n"
   ]
  },
  {
   "cell_type": "code",
   "execution_count": 100,
   "id": "84827435",
   "metadata": {},
   "outputs": [
    {
     "data": {
      "text/plain": [
       "array([ True, False,  True, False,  True, False,  True, False,  True,\n",
       "       False,  True, False,  True, False,  True, False,  True, False,\n",
       "        True, False])"
      ]
     },
     "execution_count": 100,
     "metadata": {},
     "output_type": "execute_result"
    }
   ],
   "source": [
    "even_odd != 'odd'"
   ]
  },
  {
   "cell_type": "code",
   "execution_count": 101,
   "id": "92c3fc79",
   "metadata": {},
   "outputs": [
    {
     "data": {
      "text/plain": [
       "array(['even', 'even', 'even', 'even', 'even', 'even', 'even', 'even',\n",
       "       'even', 'even'], dtype='<U4')"
      ]
     },
     "execution_count": 101,
     "metadata": {},
     "output_type": "execute_result"
    }
   ],
   "source": [
    "even_odd[even_odd != 'odd']"
   ]
  },
  {
   "cell_type": "code",
   "execution_count": 102,
   "id": "d09b4323",
   "metadata": {},
   "outputs": [
    {
     "data": {
      "text/plain": [
       "array([ 0,  1,  0,  3,  0,  5,  0,  7,  0,  9,  0, 11,  0, 13,  0, 15,  0,\n",
       "       17,  0, 19])"
      ]
     },
     "execution_count": 102,
     "metadata": {},
     "output_type": "execute_result"
    }
   ],
   "source": [
    "my_array[even_odd != 'odd'] = 0\n",
    "my_array"
   ]
  },
  {
   "cell_type": "code",
   "execution_count": 103,
   "id": "f78d5a73",
   "metadata": {},
   "outputs": [
    {
     "data": {
      "text/plain": [
       "array([ 0,  1,  2,  3,  0,  5,  0,  7,  0,  9,  0, 11,  0, 13,  0, 15,  0,\n",
       "       17,  0, 19])"
      ]
     },
     "execution_count": 103,
     "metadata": {},
     "output_type": "execute_result"
    }
   ],
   "source": [
    "my_array[2] = 2\n",
    "my_array"
   ]
  },
  {
   "cell_type": "code",
   "execution_count": 104,
   "id": "fdfe01b2",
   "metadata": {},
   "outputs": [
    {
     "data": {
      "text/plain": [
       "array([ True,  True,  True,  True,  True,  True,  True,  True,  True,\n",
       "        True,  True,  True,  True,  True,  True,  True,  True,  True,\n",
       "        True,  True])"
      ]
     },
     "execution_count": 104,
     "metadata": {},
     "output_type": "execute_result"
    }
   ],
   "source": [
    "mask = (even_odd != 'odd') |(even_odd != 'even')\n",
    "mask"
   ]
  },
  {
   "cell_type": "markdown",
   "id": "d94dfdd4",
   "metadata": {},
   "source": [
    "#### The where funtion"
   ]
  },
  {
   "cell_type": "markdown",
   "id": "eadd091c",
   "metadata": {},
   "source": [
    "the **where()** NumPy funtion performs a logical test and returns a given value if the test is True, or another if the test is False\n",
    "\n",
    "```\n",
    "np.where(logical test,\n",
    "         value if True,\n",
    "         value if False)\n",
    "```"
   ]
  },
  {
   "cell_type": "code",
   "execution_count": 105,
   "id": "95853e97",
   "metadata": {},
   "outputs": [
    {
     "data": {
      "text/plain": [
       "array([ 0,  1,  2,  3,  0,  5,  0,  7,  0,  9,  0, 11,  0, 13,  0, 15,  0,\n",
       "       17,  0, 19])"
      ]
     },
     "execution_count": 105,
     "metadata": {},
     "output_type": "execute_result"
    }
   ],
   "source": [
    "my_array\n"
   ]
  },
  {
   "cell_type": "code",
   "execution_count": 106,
   "id": "c05bd2fe",
   "metadata": {},
   "outputs": [
    {
     "data": {
      "text/plain": [
       "array(['even', 'odd', 'even', 'odd', 'even', 'odd', 'even', 'odd', 'even',\n",
       "       'odd', 'even', 'odd', 'even', 'odd', 'even', 'odd', 'even', 'odd',\n",
       "       'even', 'odd'], dtype='<U4')"
      ]
     },
     "execution_count": 106,
     "metadata": {},
     "output_type": "execute_result"
    }
   ],
   "source": [
    "np.where(my_array % 2 ==0, 'even', 'odd')"
   ]
  },
  {
   "cell_type": "code",
   "execution_count": 107,
   "id": "4dbd665e",
   "metadata": {},
   "outputs": [
    {
     "data": {
      "text/plain": [
       "array(['even', 'odd', 'even', 'odd', 'even', 'odd', 'even', 'odd', 'even',\n",
       "       '9', 'even', 'odd', 'even', 'odd', 'even', 'odd', 'even', 'odd',\n",
       "       'even', 'odd'], dtype='<U21')"
      ]
     },
     "execution_count": 107,
     "metadata": {},
     "output_type": "execute_result"
    }
   ],
   "source": [
    "np.where(my_array % 2 == 0, 'even', np.where(my_array == 9, my_array, 'odd'))"
   ]
  },
  {
   "cell_type": "markdown",
   "id": "355906a5",
   "metadata": {},
   "source": [
    "## Assignment"
   ]
  },
  {
   "cell_type": "code",
   "execution_count": 108,
   "id": "22838f59",
   "metadata": {},
   "outputs": [
    {
     "data": {
      "text/plain": [
       "array([ 10.99,  11.99,  27.99, 104.99,   9.99,  54.99])"
      ]
     },
     "execution_count": 108,
     "metadata": {},
     "output_type": "execute_result"
    }
   ],
   "source": [
    "prices = np.array([5.99, 6.99, 22.99, 99.99, 4.99, 49.99])\n",
    "total = prices + 5\n",
    "total"
   ]
  },
  {
   "cell_type": "code",
   "execution_count": 109,
   "id": "8af06fff",
   "metadata": {},
   "outputs": [
    {
     "data": {
      "text/plain": [
       "array([ 8.27, 10.88, 10.87, 98.62,  3.39, 13.46])"
      ]
     },
     "execution_count": 109,
     "metadata": {},
     "output_type": "execute_result"
    }
   ],
   "source": [
    "discount_pct = random_array[:2, :].reshape(6)\n",
    "pct_owed = 1 - discount_pct\n",
    "final_owed = total * pct_owed\n",
    "final_owed.round(2)"
   ]
  },
  {
   "cell_type": "code",
   "execution_count": 110,
   "id": "dabc1d2e",
   "metadata": {},
   "outputs": [
    {
     "data": {
      "text/plain": [
       "array([ 8.27, 10.88, 10.87, 98.62,  3.39, 13.46])"
      ]
     },
     "execution_count": 110,
     "metadata": {},
     "output_type": "execute_result"
    }
   ],
   "source": [
    "((1-(random_array[:2, :].reshape(6)))* total).round(2)"
   ]
  },
  {
   "cell_type": "code",
   "execution_count": 111,
   "id": "650c93a9",
   "metadata": {},
   "outputs": [
    {
     "name": "stdout",
     "output_type": "stream",
     "text": [
      "[0.24742606 0.09299006 0.61176337 0.06066207 0.66103343 0.75515778]\n",
      "[0.75257394 0.90700994 0.38823663 0.93933793 0.33896657 0.24484222]\n",
      "[ 8.27 10.88 10.87 98.62  3.39 13.46]\n"
     ]
    }
   ],
   "source": [
    "print(discount_pct)\n",
    "print(pct_owed)\n",
    "print(final_owed.round(2))"
   ]
  },
  {
   "cell_type": "markdown",
   "id": "b630057d",
   "metadata": {},
   "source": [
    "### Array aggregation methods"
   ]
  },
  {
   "cell_type": "code",
   "execution_count": 112,
   "id": "9f0323e3",
   "metadata": {},
   "outputs": [
    {
     "data": {
      "text/plain": [
       "array([[   0,    5,  155,    0,  518],\n",
       "       [   0, 1827,  616,  317,  325]])"
      ]
     },
     "execution_count": 112,
     "metadata": {},
     "output_type": "execute_result"
    }
   ],
   "source": [
    "sales_array = np.array([[0, 5, 155, 0, 518],\n",
    "                       [0, 1827, 616, 317, 325]])\n",
    "sales_array"
   ]
  },
  {
   "cell_type": "code",
   "execution_count": 113,
   "id": "4a0bdad3",
   "metadata": {},
   "outputs": [
    {
     "data": {
      "text/plain": [
       "3763"
      ]
     },
     "execution_count": 113,
     "metadata": {},
     "output_type": "execute_result"
    }
   ],
   "source": [
    "sales_array.sum()"
   ]
  },
  {
   "cell_type": "code",
   "execution_count": 114,
   "id": "271001b0",
   "metadata": {},
   "outputs": [
    {
     "data": {
      "text/plain": [
       "array([   0, 1832,  771,  317,  843])"
      ]
     },
     "execution_count": 114,
     "metadata": {},
     "output_type": "execute_result"
    }
   ],
   "source": [
    "sales_array.sum(axis=0) # sum of columns"
   ]
  },
  {
   "cell_type": "code",
   "execution_count": 115,
   "id": "cb0076f7",
   "metadata": {},
   "outputs": [
    {
     "data": {
      "text/plain": [
       "array([ 678, 3085])"
      ]
     },
     "execution_count": 115,
     "metadata": {},
     "output_type": "execute_result"
    }
   ],
   "source": [
    "sales_array.sum(axis=1) # sum of rows"
   ]
  },
  {
   "cell_type": "code",
   "execution_count": 116,
   "id": "8bd5e164",
   "metadata": {},
   "outputs": [
    {
     "data": {
      "text/plain": [
       "array([3.97, 8.66, 4.6 , 3.06, 5.74, 0.89, 8.82, 7.32, 7.32, 5.62])"
      ]
     },
     "execution_count": 116,
     "metadata": {},
     "output_type": "execute_result"
    }
   ],
   "source": [
    "rng = np.random.default_rng(616)\n",
    "price = (rng.random(10) * 10).round(2)\n",
    "price"
   ]
  },
  {
   "cell_type": "code",
   "execution_count": 117,
   "id": "357e1d91",
   "metadata": {},
   "outputs": [
    {
     "data": {
      "text/plain": [
       "array([80, 33, 60,  6, 31, 35, 16, 20, 29, 43])"
      ]
     },
     "execution_count": 117,
     "metadata": {},
     "output_type": "execute_result"
    }
   ],
   "source": [
    "inventory = rng.integers(0, 100, 10) # syntax : rng.integers(start, stop, n)\n",
    "inventory"
   ]
  },
  {
   "cell_type": "code",
   "execution_count": 118,
   "id": "a72a55a9",
   "metadata": {},
   "outputs": [
    {
     "data": {
      "text/plain": [
       "35.3"
      ]
     },
     "execution_count": 118,
     "metadata": {},
     "output_type": "execute_result"
    }
   ],
   "source": [
    "sum(inventory)/len(inventory)"
   ]
  },
  {
   "cell_type": "code",
   "execution_count": 119,
   "id": "2f86608b",
   "metadata": {},
   "outputs": [
    {
     "data": {
      "text/plain": [
       "35.3"
      ]
     },
     "execution_count": 119,
     "metadata": {},
     "output_type": "execute_result"
    }
   ],
   "source": [
    "inventory.mean()"
   ]
  },
  {
   "cell_type": "markdown",
   "id": "d81a74f7",
   "metadata": {},
   "source": [
    "### Standart deviation [Click](https://www.mathsisfun.com/data/standard-deviation.html)"
   ]
  },
  {
   "cell_type": "code",
   "execution_count": 120,
   "id": "f35c7157",
   "metadata": {},
   "outputs": [
    {
     "data": {
      "text/plain": [
       "20.48438429633656"
      ]
     },
     "execution_count": 120,
     "metadata": {},
     "output_type": "execute_result"
    }
   ],
   "source": [
    "inventory.std()  "
   ]
  },
  {
   "cell_type": "code",
   "execution_count": 121,
   "id": "7e4de5a3",
   "metadata": {},
   "outputs": [
    {
     "data": {
      "text/plain": [
       "array([317.6 , 285.78, 276.  ,  18.36, 177.94,  31.15, 141.12, 146.4 ,\n",
       "       212.28, 241.66])"
      ]
     },
     "execution_count": 121,
     "metadata": {},
     "output_type": "execute_result"
    }
   ],
   "source": [
    "(price * inventory)"
   ]
  },
  {
   "cell_type": "markdown",
   "id": "d95932f2",
   "metadata": {},
   "source": [
    "### Array funtions\n"
   ]
  },
  {
   "cell_type": "markdown",
   "id": "f3420335",
   "metadata": {},
   "source": [
    "**Array Funtions** let you perform other aggregations like median and percentils"
   ]
  },
  {
   "cell_type": "code",
   "execution_count": 122,
   "id": "987a3c57",
   "metadata": {},
   "outputs": [
    {
     "data": {
      "text/plain": [
       "array([[   0,    5,  155,    0,  518],\n",
       "       [   0, 1827,  616,  317,  325]])"
      ]
     },
     "execution_count": 122,
     "metadata": {},
     "output_type": "execute_result"
    }
   ],
   "source": [
    "sales_array"
   ]
  },
  {
   "cell_type": "code",
   "execution_count": 123,
   "id": "e31e197f",
   "metadata": {},
   "outputs": [
    {
     "data": {
      "text/plain": [
       "236.0"
      ]
     },
     "execution_count": 123,
     "metadata": {},
     "output_type": "execute_result"
    }
   ],
   "source": [
    "np.median(sales_array) # median is center point of our array"
   ]
  },
  {
   "cell_type": "code",
   "execution_count": 124,
   "id": "f972ca6c",
   "metadata": {},
   "outputs": [
    {
     "data": {
      "text/plain": [
       "376.3"
      ]
     },
     "execution_count": 124,
     "metadata": {},
     "output_type": "execute_result"
    }
   ],
   "source": [
    "sales_array.mean()"
   ]
  },
  {
   "cell_type": "code",
   "execution_count": 125,
   "id": "3527f9ce",
   "metadata": {},
   "outputs": [
    {
     "data": {
      "text/plain": [
       "15.944915254237289"
      ]
     },
     "execution_count": 125,
     "metadata": {},
     "output_type": "execute_result"
    }
   ],
   "source": [
    "sales_array.sum() /236"
   ]
  },
  {
   "cell_type": "markdown",
   "id": "b0d652d2",
   "metadata": {},
   "source": [
    "#### Median"
   ]
  },
  {
   "cell_type": "markdown",
   "id": "f089a73f",
   "metadata": {},
   "source": [
    "for odd number have to put this formula ((n + 1)/2)\n",
    "if any even number is there put the center of 2 elements in the acending order.from sales array\n",
    "```\n",
    "0, 0, 0, 5, 155, 317, 325, 518, 616, 1827\n",
    "```\n",
    "there is 10 element in that set get 5th element and 6th element then sum them and devide by 2\n",
    "((155 + 317)/2) = 236"
   ]
  },
  {
   "cell_type": "code",
   "execution_count": 126,
   "id": "c377c0a7",
   "metadata": {},
   "outputs": [
    {
     "data": {
      "text/plain": [
       "array([[1, 2, 3, 4],\n",
       "       [5, 6, 7, 8]])"
      ]
     },
     "execution_count": 126,
     "metadata": {},
     "output_type": "execute_result"
    }
   ],
   "source": [
    "np.array([[1,2,3,4], [5,6,7,8]])"
   ]
  },
  {
   "cell_type": "code",
   "execution_count": 127,
   "id": "82bcf67d",
   "metadata": {},
   "outputs": [
    {
     "data": {
      "text/plain": [
       "array([[   0,    5,  155,    0,  518,    0, 1827,  616,  317,  325]])"
      ]
     },
     "execution_count": 127,
     "metadata": {},
     "output_type": "execute_result"
    }
   ],
   "source": [
    "new_array = sales_array.reshape(1, 10)\n",
    "new_array"
   ]
  },
  {
   "cell_type": "code",
   "execution_count": 128,
   "id": "f5fd7e50",
   "metadata": {},
   "outputs": [
    {
     "data": {
      "text/plain": [
       "array([[   0,    0,    0,    5,  155,  317,  325,  518,  616, 1827]])"
      ]
     },
     "execution_count": 128,
     "metadata": {},
     "output_type": "execute_result"
    }
   ],
   "source": [
    "new_array.sort()\n",
    "new_array"
   ]
  },
  {
   "cell_type": "code",
   "execution_count": 129,
   "id": "501a87cd",
   "metadata": {},
   "outputs": [
    {
     "data": {
      "text/plain": [
       "array([[   0,    0,    0,    5,  155,  317,  325,  518,  616, 1827]])"
      ]
     },
     "execution_count": 129,
     "metadata": {},
     "output_type": "execute_result"
    }
   ],
   "source": [
    "new_array"
   ]
  },
  {
   "cell_type": "markdown",
   "id": "c5de39e9",
   "metadata": {},
   "source": []
  },
  {
   "cell_type": "markdown",
   "id": "438e38d7",
   "metadata": {},
   "source": [
    "### Sorting Arrays"
   ]
  },
  {
   "cell_type": "markdown",
   "id": "09ba6585",
   "metadata": {},
   "source": [
    "The sort() method will sort arrays in place, Using the asix argument to specify the dimension to sort by\n",
    "\n",
    "`numpy.sort(a, axis=- 1, kind=None, order=None)` [CLICK MORE](https://numpy.org/doc/stable/reference/generated/numpy.sort.html)"
   ]
  },
  {
   "cell_type": "code",
   "execution_count": 130,
   "id": "cc5a854d",
   "metadata": {},
   "outputs": [
    {
     "data": {
      "text/plain": [
       "array([[   5,    4,    0,    5,  155],\n",
       "       [   3,    1,  518, 2616, 1827]])"
      ]
     },
     "execution_count": 130,
     "metadata": {},
     "output_type": "execute_result"
    }
   ],
   "source": [
    "sales_array = np.array([[   5,    4,    0,    5,  155],\n",
    "                       [ 3,  1,  518,  2616, 1827]])\n",
    "sales_array"
   ]
  },
  {
   "cell_type": "code",
   "execution_count": 131,
   "id": "e95ffde4",
   "metadata": {},
   "outputs": [
    {
     "data": {
      "text/plain": [
       "array([[   0,    4,    5,    5,  155],\n",
       "       [   1,    3,  518, 1827, 2616]])"
      ]
     },
     "execution_count": 131,
     "metadata": {},
     "output_type": "execute_result"
    }
   ],
   "source": [
    "sales_array.sort()\n",
    "sales_array"
   ]
  },
  {
   "cell_type": "code",
   "execution_count": 132,
   "id": "0b2e93eb",
   "metadata": {},
   "outputs": [
    {
     "data": {
      "text/plain": [
       "array([[   0,    3,    5,    5,  155],\n",
       "       [   1,    4,  518, 1827, 2616]])"
      ]
     },
     "execution_count": 132,
     "metadata": {},
     "output_type": "execute_result"
    }
   ],
   "source": [
    "sales_array.sort(axis=0)\n",
    "sales_array"
   ]
  },
  {
   "cell_type": "code",
   "execution_count": 133,
   "id": "b06d2efb",
   "metadata": {},
   "outputs": [],
   "source": [
    "product_value = np.array([3.68, 6.24, 26.15, 202.92, 106.44, 3.68, 26.15, 403.2])"
   ]
  },
  {
   "cell_type": "code",
   "execution_count": 134,
   "id": "1b9621d1",
   "metadata": {},
   "outputs": [
    {
     "data": {
      "text/plain": [
       "array([  3.68,   3.68,   6.24,  26.15,  26.15, 106.44, 202.92, 403.2 ])"
      ]
     },
     "execution_count": 134,
     "metadata": {},
     "output_type": "execute_result"
    }
   ],
   "source": [
    "np.sort(product_value)"
   ]
  },
  {
   "cell_type": "code",
   "execution_count": 135,
   "id": "bb66c3ae",
   "metadata": {},
   "outputs": [
    {
     "data": {
      "text/plain": [
       "array([  3.68,   6.24,  26.15, 202.92, 106.44,   3.68,  26.15, 403.2 ])"
      ]
     },
     "execution_count": 135,
     "metadata": {},
     "output_type": "execute_result"
    }
   ],
   "source": [
    "product_value"
   ]
  },
  {
   "cell_type": "code",
   "execution_count": 136,
   "id": "374a27d7",
   "metadata": {},
   "outputs": [
    {
     "data": {
      "text/plain": [
       "array([  3.68,   3.68,   6.24,  26.15,  26.15, 106.44, 202.92, 403.2 ])"
      ]
     },
     "execution_count": 136,
     "metadata": {},
     "output_type": "execute_result"
    }
   ],
   "source": [
    "product_value.sort()\n",
    "product_value"
   ]
  },
  {
   "cell_type": "code",
   "execution_count": 137,
   "id": "d48520fc",
   "metadata": {},
   "outputs": [
    {
     "data": {
      "text/plain": [
       "403.2"
      ]
     },
     "execution_count": 137,
     "metadata": {},
     "output_type": "execute_result"
    }
   ],
   "source": [
    "product_value[-1]"
   ]
  },
  {
   "cell_type": "code",
   "execution_count": 138,
   "id": "a578fd23",
   "metadata": {},
   "outputs": [
    {
     "data": {
      "text/plain": [
       "array([403.2 , 202.92, 106.44,  26.15,  26.15,   6.24,   3.68,   3.68])"
      ]
     },
     "execution_count": 138,
     "metadata": {},
     "output_type": "execute_result"
    }
   ],
   "source": [
    "product_value[::-1]"
   ]
  },
  {
   "cell_type": "markdown",
   "id": "465380fe",
   "metadata": {},
   "source": [
    "## Vectorization"
   ]
  },
  {
   "cell_type": "markdown",
   "id": "5c1de174",
   "metadata": {},
   "source": [
    "Vectorization is the process of pushing array operations into optimized **C** code, which is easier and more efficient than writing for loops."
   ]
  },
  {
   "cell_type": "markdown",
   "id": "403b2c00",
   "metadata": {},
   "source": [
    "If you multiply two python list it takes more time to compare the numpy array.\n",
    "numpy **86** times faster than normal python list."
   ]
  },
  {
   "cell_type": "markdown",
   "id": "521852b7",
   "metadata": {},
   "source": [
    "## Broadcasting"
   ]
  },
  {
   "cell_type": "markdown",
   "id": "896e3878",
   "metadata": {},
   "source": [
    "**Broadcasting** lets you perform vectorized operations with arrays of different sizes, where numpy will expand the smaller array to `fit` the larger one.\n",
    "* single values(scalars) can be brodcast into of any dimension\n",
    "* Dimensions with a ength greater than one must be the same size"
   ]
  },
  {
   "cell_type": "code",
   "execution_count": 139,
   "id": "55a6166a",
   "metadata": {},
   "outputs": [
    {
     "data": {
      "text/plain": [
       "array([[[1, 2, 3],\n",
       "        [1, 2, 3],\n",
       "        [1, 2, 3]]])"
      ]
     },
     "execution_count": 139,
     "metadata": {},
     "output_type": "execute_result"
    }
   ],
   "source": [
    "test_array = np.array([[[1,2,3], [1,2,3], [1,2,3]]])\n",
    "test_array"
   ]
  },
  {
   "cell_type": "code",
   "execution_count": 140,
   "id": "458e9c4b",
   "metadata": {},
   "outputs": [
    {
     "data": {
      "text/plain": [
       "array([[[2, 3, 4],\n",
       "        [2, 3, 4],\n",
       "        [2, 3, 4]]])"
      ]
     },
     "execution_count": 140,
     "metadata": {},
     "output_type": "execute_result"
    }
   ],
   "source": [
    "test_array + 1"
   ]
  },
  {
   "cell_type": "markdown",
   "id": "c7a512c2",
   "metadata": {},
   "source": [
    "How does the code is working the internally python create a `3x3` array with the number `1` and easily compare and add the value with each value"
   ]
  },
  {
   "cell_type": "code",
   "execution_count": 141,
   "id": "be0cea07",
   "metadata": {},
   "outputs": [
    {
     "data": {
      "text/plain": [
       "array([[[4, 4, 4],\n",
       "        [4, 4, 4],\n",
       "        [4, 4, 4]]])"
      ]
     },
     "execution_count": 141,
     "metadata": {},
     "output_type": "execute_result"
    }
   ],
   "source": [
    "test_array + np.array([3,2,1])"
   ]
  },
  {
   "attachments": {
    "boradcasting_example.png": {
     "image/png": "[encoded data removed]"
    }
   },
   "cell_type": "markdown",
   "id": "acc1ade2",
   "metadata": {},
   "source": [
    "![boradcasting_example.png](attachment:boradcasting_example.png)"
   ]
  },
  {
   "cell_type": "code",
   "execution_count": 142,
   "id": "2e4440ae",
   "metadata": {},
   "outputs": [
    {
     "data": {
      "text/plain": [
       "array([[[1, 2, 3],\n",
       "        [1, 2, 3],\n",
       "        [1, 2, 3]]])"
      ]
     },
     "execution_count": 142,
     "metadata": {},
     "output_type": "execute_result"
    }
   ],
   "source": [
    "test_array\n"
   ]
  },
  {
   "cell_type": "code",
   "execution_count": 143,
   "id": "1436bc6e",
   "metadata": {},
   "outputs": [
    {
     "data": {
      "text/plain": [
       "array([[[4, 5, 6],\n",
       "        [3, 4, 5],\n",
       "        [2, 3, 4]]])"
      ]
     },
     "execution_count": 143,
     "metadata": {},
     "output_type": "execute_result"
    }
   ],
   "source": [
    "test_array + np.array([3, 2, 1]).reshape(3,1)"
   ]
  },
  {
   "attachments": {
    "broadcasting_reshape_exp.png": {
     "image/png": "[encoded data removed]"
    }
   },
   "cell_type": "markdown",
   "id": "2affc2bb",
   "metadata": {},
   "source": [
    "![broadcasting_reshape_exp.png](attachment:broadcasting_reshape_exp.png)"
   ]
  },
  {
   "cell_type": "code",
   "execution_count": 144,
   "id": "e9c6cb9d",
   "metadata": {},
   "outputs": [
    {
     "name": "stdout",
     "output_type": "stream",
     "text": [
      "\n",
      "    ValueError ----> 1 test_array + np.array([1,2])\n",
      "     ValueError: operands could not be broadcast together with shapes (1,3,3) (2,)\n",
      "    \n"
     ]
    }
   ],
   "source": [
    "try:\n",
    "    test_array + np.array([1,2])\n",
    "except:\n",
    "    print('''\n",
    "    ValueError ----> 1 test_array + np.array([1,2])\n",
    "     ValueError: operands could not be broadcast together with shapes (1,3,3) (2,)\n",
    "    ''')"
   ]
  },
  {
   "cell_type": "markdown",
   "id": "ac0f6703",
   "metadata": {},
   "source": [
    "# Pandas "
   ]
  },
  {
   "cell_type": "markdown",
   "id": "9a7a715c",
   "metadata": {},
   "source": [
    "### Pandas Series Basics"
   ]
  },
  {
   "cell_type": "markdown",
   "id": "1df28df8",
   "metadata": {},
   "source": [
    "**series** are Pandas data structures built on top of NumPy arrays\n",
    "* Series also contain an **index** and an Optional name, in addition to the array of data\n",
    "* They can be created from other data types but are usually imported from external sources\n",
    "* Two or more series grouped together from a pandas DataFrame"
   ]
  },
  {
   "cell_type": "code",
   "execution_count": 145,
   "id": "27c6a9ef",
   "metadata": {},
   "outputs": [],
   "source": [
    "import numpy as np\n",
    "import pandas as pd"
   ]
  },
  {
   "cell_type": "code",
   "execution_count": 146,
   "id": "97ad8599",
   "metadata": {},
   "outputs": [
    {
     "data": {
      "text/plain": [
       "0       0\n",
       "1       5\n",
       "2     155\n",
       "3       0\n",
       "4     518\n",
       "5       0\n",
       "6    1827\n",
       "7     616\n",
       "8     317\n",
       "9     325\n",
       "Name: Sales, dtype: int64"
      ]
     },
     "execution_count": 146,
     "metadata": {},
     "output_type": "execute_result"
    }
   ],
   "source": [
    "sales = [0,5, 155, 0, 518, 0, 1827, 616, 317, 325]\n",
    "sales_series = pd.Series(sales, name='Sales')\n",
    "sales_series"
   ]
  },
  {
   "cell_type": "code",
   "execution_count": 147,
   "id": "9257fcde",
   "metadata": {},
   "outputs": [
    {
     "data": {
      "text/plain": [
       "pandas.core.series.Series"
      ]
     },
     "execution_count": 147,
     "metadata": {},
     "output_type": "execute_result"
    }
   ],
   "source": [
    "array = np.arange(5)\n",
    "series = pd.Series(array, name='Test')\n",
    "type(series)"
   ]
  },
  {
   "cell_type": "markdown",
   "id": "7760e900",
   "metadata": {},
   "source": [
    "**Pandas** doesn't accept the two or more dimentional array"
   ]
  },
  {
   "cell_type": "code",
   "execution_count": 148,
   "id": "6f56413a",
   "metadata": {},
   "outputs": [
    {
     "name": "stdout",
     "output_type": "stream",
     "text": [
      "ValueError: Data must be 1-dimensional\n"
     ]
    }
   ],
   "source": [
    "try:\n",
    "    pd.Series(np.arange(6).reshape(3,2), name='Test 2')\n",
    "except ValueError:\n",
    "    print(\"ValueError: Data must be 1-dimensional\")"
   ]
  },
  {
   "cell_type": "code",
   "execution_count": 149,
   "id": "b0fed5a3",
   "metadata": {},
   "outputs": [
    {
     "data": {
      "text/plain": [
       "array([0, 1, 2, 3, 4])"
      ]
     },
     "execution_count": 149,
     "metadata": {},
     "output_type": "execute_result"
    }
   ],
   "source": [
    "series.values"
   ]
  },
  {
   "cell_type": "code",
   "execution_count": 150,
   "id": "db59ed26",
   "metadata": {},
   "outputs": [
    {
     "data": {
      "text/plain": [
       "2.0"
      ]
     },
     "execution_count": 150,
     "metadata": {},
     "output_type": "execute_result"
    }
   ],
   "source": [
    "series.values.mean() # numpy array method"
   ]
  },
  {
   "cell_type": "code",
   "execution_count": 151,
   "id": "c055e336",
   "metadata": {},
   "outputs": [
    {
     "data": {
      "text/plain": [
       "2.0"
      ]
     },
     "execution_count": 151,
     "metadata": {},
     "output_type": "execute_result"
    }
   ],
   "source": [
    "series.mean()  # pandas series method"
   ]
  },
  {
   "cell_type": "code",
   "execution_count": 152,
   "id": "ea6b099c",
   "metadata": {},
   "outputs": [
    {
     "data": {
      "text/plain": [
       "10    0\n",
       "20    1\n",
       "30    2\n",
       "40    3\n",
       "50    4\n",
       "Name: Test, dtype: int64"
      ]
     },
     "execution_count": 152,
     "metadata": {},
     "output_type": "execute_result"
    }
   ],
   "source": [
    "series.index = [10,20,30, 40, 50]\n",
    "series"
   ]
  },
  {
   "cell_type": "code",
   "execution_count": 153,
   "id": "9770ace1",
   "metadata": {},
   "outputs": [
    {
     "data": {
      "text/plain": [
       "10    0\n",
       "20    1\n",
       "30    2\n",
       "40    3\n",
       "50    4\n",
       "Name: Special series, dtype: int64"
      ]
     },
     "execution_count": 153,
     "metadata": {},
     "output_type": "execute_result"
    }
   ],
   "source": [
    "series.name = 'Special series'\n",
    "series"
   ]
  },
  {
   "cell_type": "markdown",
   "id": "17975544",
   "metadata": {},
   "source": [
    "## PANDAS DATA TYPES"
   ]
  },
  {
   "cell_type": "markdown",
   "id": "b4966dac",
   "metadata": {},
   "source": [
    "**Pandas data types** mostly expand on their base python and Numpy equivalents"
   ]
  },
  {
   "cell_type": "markdown",
   "id": "d99a190c",
   "metadata": {},
   "source": [
    "### Numeric:\n",
    "\n",
    "**Numpy data type**\n",
    "  * **bool** | Boolean True/False | 8 (Bit Sizes)\n",
    "  * **int64** (default) | whole numbers | 8, 16, 32, 64\n",
    "  * **float64** (default) | Decimal numbers | 8, 16, 32, 64\n",
    "  \n",
    "**Pandas data types**\n",
    "  * **bool** | Boolean True/False | 8 (Bit Sizes)\n",
    "  * **int64** (default) | whole numbers | 8, 16, 32, 64\n",
    "  * **float64** (default) | Decimal numbers | 32, 64"
   ]
  },
  {
   "cell_type": "code",
   "execution_count": 154,
   "id": "6596f81f",
   "metadata": {},
   "outputs": [
    {
     "data": {
      "text/plain": [
       "0       0\n",
       "1       5\n",
       "2     155\n",
       "3       0\n",
       "4     518\n",
       "5       0\n",
       "6    1827\n",
       "7     616\n",
       "8     317\n",
       "9     325\n",
       "Name: Sales, dtype: int64"
      ]
     },
     "execution_count": 154,
     "metadata": {},
     "output_type": "execute_result"
    }
   ],
   "source": [
    "sales_series # default data type"
   ]
  },
  {
   "cell_type": "code",
   "execution_count": 155,
   "id": "83cf8133",
   "metadata": {},
   "outputs": [
    {
     "data": {
      "text/plain": [
       "0       0.0\n",
       "1       5.0\n",
       "2     155.0\n",
       "3       0.0\n",
       "4     518.0\n",
       "5       0.0\n",
       "6    1827.0\n",
       "7     616.0\n",
       "8     317.0\n",
       "9     325.0\n",
       "Name: Sales, dtype: float64"
      ]
     },
     "execution_count": 155,
     "metadata": {},
     "output_type": "execute_result"
    }
   ],
   "source": [
    "sales_series.astype(\"float\")"
   ]
  },
  {
   "cell_type": "code",
   "execution_count": 156,
   "id": "a2184cff",
   "metadata": {},
   "outputs": [
    {
     "data": {
      "text/plain": [
       "0    False\n",
       "1     True\n",
       "2     True\n",
       "3    False\n",
       "4     True\n",
       "5    False\n",
       "6     True\n",
       "7     True\n",
       "8     True\n",
       "9     True\n",
       "Name: Sales, dtype: bool"
      ]
     },
     "execution_count": 156,
     "metadata": {},
     "output_type": "execute_result"
    }
   ],
   "source": [
    "sales_series.astype(\"bool\")"
   ]
  },
  {
   "cell_type": "code",
   "execution_count": 157,
   "id": "36ca390d",
   "metadata": {},
   "outputs": [
    {
     "name": "stdout",
     "output_type": "stream",
     "text": [
      "\n",
      "    ValueError: The 'datetime64' dtype has no unit. Please pass in 'datetime64[ns]' instead.\n",
      "    \n"
     ]
    }
   ],
   "source": [
    "try:\n",
    "    sales_series.astype(\"datetime64\")\n",
    "except ValueError:\n",
    "    print('''\n",
    "    ValueError: The 'datetime64' dtype has no unit. Please pass in 'datetime64[ns]' instead.\n",
    "    ''')"
   ]
  },
  {
   "cell_type": "markdown",
   "id": "4ac7f24a",
   "metadata": {},
   "source": [
    "### Custom Index\n",
    "There are cases it's applicable to use a custom index for accessing rows"
   ]
  },
  {
   "cell_type": "code",
   "execution_count": 158,
   "id": "d8952c98",
   "metadata": {
    "scrolled": false
   },
   "outputs": [
    {
     "data": {
      "text/plain": [
       "coffee       0\n",
       "bananas      5\n",
       "tea        155\n",
       "coconut      0\n",
       "sugar      518\n",
       "Name: sales, dtype: int64"
      ]
     },
     "execution_count": 158,
     "metadata": {},
     "output_type": "execute_result"
    }
   ],
   "source": [
    "sales = [0, 5, 155, 0, 518]\n",
    "items = [\"coffee\", \"bananas\", \"tea\", \"coconut\", \"sugar\"]\n",
    "\n",
    "sales_series = pd.Series(sales, index=items, name='sales')\n",
    "sales_series"
   ]
  },
  {
   "cell_type": "code",
   "execution_count": 159,
   "id": "e94da23b",
   "metadata": {},
   "outputs": [
    {
     "data": {
      "text/plain": [
       "155"
      ]
     },
     "execution_count": 159,
     "metadata": {},
     "output_type": "execute_result"
    }
   ],
   "source": [
    "sales_series[\"tea\"]"
   ]
  },
  {
   "cell_type": "markdown",
   "id": "e6149708",
   "metadata": {},
   "source": [
    "<p style=\"color:green\">Note that slicing custom indices makes the stop point <b style=\"color:red\">Inclusive</b></p>"
   ]
  },
  {
   "cell_type": "code",
   "execution_count": 160,
   "id": "adb35ba3",
   "metadata": {},
   "outputs": [
    {
     "data": {
      "text/plain": [
       "bananas      5\n",
       "tea        155\n",
       "coconut      0\n",
       "Name: sales, dtype: int64"
      ]
     },
     "execution_count": 160,
     "metadata": {},
     "output_type": "execute_result"
    }
   ],
   "source": [
    "sales_series[\"bananas\":\"coconut\"] "
   ]
  },
  {
   "cell_type": "markdown",
   "id": "b1cdce50",
   "metadata": {},
   "source": [
    "<p style=\"color:green\">Note that slicing <b>default indices</b> makes the stop point <b style=\"color:red\">Exclusive</b></p>"
   ]
  },
  {
   "cell_type": "code",
   "execution_count": 161,
   "id": "cb1d3078",
   "metadata": {},
   "outputs": [
    {
     "data": {
      "text/plain": [
       "0    0\n",
       "1    1\n",
       "2    2\n",
       "3    3\n",
       "4    4\n",
       "dtype: int64"
      ]
     },
     "execution_count": 161,
     "metadata": {},
     "output_type": "execute_result"
    }
   ],
   "source": [
    "my_series = pd.Series(range(5))\n",
    "\n",
    "my_series"
   ]
  },
  {
   "cell_type": "code",
   "execution_count": 162,
   "id": "d4a52ebf",
   "metadata": {},
   "outputs": [
    {
     "data": {
      "text/plain": [
       "3"
      ]
     },
     "execution_count": 162,
     "metadata": {},
     "output_type": "execute_result"
    }
   ],
   "source": [
    "my_series[3]"
   ]
  },
  {
   "cell_type": "code",
   "execution_count": 163,
   "id": "5d9bfab8",
   "metadata": {},
   "outputs": [
    {
     "data": {
      "text/plain": [
       "1    1\n",
       "2    2\n",
       "dtype: int64"
      ]
     },
     "execution_count": 163,
     "metadata": {},
     "output_type": "execute_result"
    }
   ],
   "source": [
    "my_series[1:3]"
   ]
  },
  {
   "cell_type": "markdown",
   "id": "446902b0",
   "metadata": {},
   "source": [
    "## iloc\n",
    "The `iloc()` function in python is defined in the Pandas module that **helps us to select a specific row or column from the data set.** Using the iloc method in python, we can easily retrieve any particular value from a row or column by using index values.\n",
    "\n",
    "The `.iloc[]` method is the preferred way to access values by their positional index\n",
    "* This method works even when series have a custom, non-integer index\n",
    "* It is more efficient than slicing and is recommended by pandas creators\n",
    "\n",
    "**Series ot DataFrame to acess values from `.iloc[]`**\n",
    "\n",
    ">df.iloc[row_position, column_position]\n",
    "\n",
    "**The <b style=\"color:red\">row</b> postions for the values you want to access**\n",
    "\n",
    "*Examples:*\n",
    "* 0 (single row)\n",
    "* [5,9] (multiple rows)\n",
    "* [0:11] (range of rows)\n",
    "\n",
    "**The <b style=\"color:red\">column</b> postions for the values you want to access**\n",
    "\n",
    "   *We'll use the column position argument once we start working with pandas* **DataFrames** "
   ]
  },
  {
   "cell_type": "code",
   "execution_count": 164,
   "id": "db98b5ee",
   "metadata": {
    "scrolled": false
   },
   "outputs": [
    {
     "name": "stdout",
     "output_type": "stream",
     "text": [
      "<class 'pandas.core.series.Series'>\n"
     ]
    },
    {
     "data": {
      "text/plain": [
       "coffee       0\n",
       "bananas      5\n",
       "tea        155\n",
       "coconut      0\n",
       "sugar      518\n",
       "Name: sales, dtype: int64"
      ]
     },
     "execution_count": 164,
     "metadata": {},
     "output_type": "execute_result"
    }
   ],
   "source": [
    "print(type(sales_series)) # this series has a custom index\n",
    "sales_series"
   ]
  },
  {
   "cell_type": "markdown",
   "id": "aa8cdda4",
   "metadata": {},
   "source": [
    "<p style=\"background:#cfe8d5;\">This returns the value in the 3rd position(0-indexed), even though the custom index for that value is <span style=\"background:#edf0ee;\">tea</span></p>"
   ]
  },
  {
   "cell_type": "code",
   "execution_count": 165,
   "id": "b83760fb",
   "metadata": {},
   "outputs": [
    {
     "data": {
      "text/plain": [
       "155"
      ]
     },
     "execution_count": 165,
     "metadata": {},
     "output_type": "execute_result"
    }
   ],
   "source": [
    "sales_series[2] "
   ]
  },
  {
   "cell_type": "code",
   "execution_count": 166,
   "id": "6a2d6bbc",
   "metadata": {},
   "outputs": [
    {
     "data": {
      "text/plain": [
       "tea        155\n",
       "coconut      0\n",
       "Name: sales, dtype: int64"
      ]
     },
     "execution_count": 166,
     "metadata": {},
     "output_type": "execute_result"
    }
   ],
   "source": [
    "sales_series[2:4] # it's retuening the 3rd and 4th element in the sales_series"
   ]
  },
  {
   "cell_type": "code",
   "execution_count": 167,
   "id": "f712ffef",
   "metadata": {},
   "outputs": [
    {
     "data": {
      "text/plain": [
       "coffee       0\n",
       "coconut      0\n",
       "bananas      5\n",
       "tea        155\n",
       "sugar      518\n",
       "Name: sales, dtype: int64"
      ]
     },
     "execution_count": 167,
     "metadata": {},
     "output_type": "execute_result"
    }
   ],
   "source": [
    "sales_series.sort_values()"
   ]
  },
  {
   "cell_type": "code",
   "execution_count": 168,
   "id": "20c80fba",
   "metadata": {},
   "outputs": [
    {
     "data": {
      "text/plain": [
       "day 0    0\n",
       "day 1    1\n",
       "day 2    2\n",
       "day 3    3\n",
       "day 4    4\n",
       "dtype: int64"
      ]
     },
     "execution_count": 168,
     "metadata": {},
     "output_type": "execute_result"
    }
   ],
   "source": [
    "my_series.index = [\"day 0\", \"day 1\", \"day 2\", \"day 3\", \"day 4\"]\n",
    "my_series"
   ]
  },
  {
   "cell_type": "code",
   "execution_count": 169,
   "id": "24dd5417",
   "metadata": {},
   "outputs": [
    {
     "name": "stdout",
     "output_type": "stream",
     "text": [
      "0\n",
      "4\n",
      "day 1    1\n",
      "day 3    3\n",
      "day 4    4\n",
      "dtype: int64\n"
     ]
    }
   ],
   "source": [
    "print(my_series.iloc[0])\n",
    "print(my_series.iloc[-1])\n",
    "print(my_series.iloc[[1, 3, 4]])"
   ]
  },
  {
   "cell_type": "markdown",
   "id": "7bcabf40",
   "metadata": {},
   "source": [
    "# .loc[]\n",
    "\n",
    "The `.loc[]` method is the prefered way to access values by their **custom labels**"
   ]
  },
  {
   "cell_type": "code",
   "execution_count": 170,
   "id": "9a9c9356",
   "metadata": {},
   "outputs": [
    {
     "data": {
      "text/plain": [
       "coffee       0\n",
       "bananas      5\n",
       "tea        155\n",
       "coconut      0\n",
       "sugar      518\n",
       "Name: sales, dtype: int64"
      ]
     },
     "execution_count": 170,
     "metadata": {},
     "output_type": "execute_result"
    }
   ],
   "source": [
    "sales_series"
   ]
  },
  {
   "cell_type": "code",
   "execution_count": 171,
   "id": "6b792496",
   "metadata": {},
   "outputs": [
    {
     "data": {
      "text/plain": [
       "155"
      ]
     },
     "execution_count": 171,
     "metadata": {},
     "output_type": "execute_result"
    }
   ],
   "source": [
    "sales_series.loc[\"tea\"]"
   ]
  },
  {
   "cell_type": "code",
   "execution_count": 172,
   "id": "49ed43d7",
   "metadata": {},
   "outputs": [
    {
     "data": {
      "text/plain": [
       "bananas      5\n",
       "tea        155\n",
       "coconut      0\n",
       "Name: sales, dtype: int64"
      ]
     },
     "execution_count": 172,
     "metadata": {},
     "output_type": "execute_result"
    }
   ],
   "source": [
    "sales_series.loc[\"bananas\":\"coconut\"] # custom stop index is inclusive when you use custom labels"
   ]
  },
  {
   "cell_type": "code",
   "execution_count": 173,
   "id": "c8970063",
   "metadata": {},
   "outputs": [
    {
     "data": {
      "text/plain": [
       "0    10\n",
       "1    20\n",
       "2    30\n",
       "3    40\n",
       "4    50\n",
       "5    60\n",
       "6    70\n",
       "7    80\n",
       "8    90\n",
       "dtype: int64"
      ]
     },
     "execution_count": 173,
     "metadata": {},
     "output_type": "execute_result"
    }
   ],
   "source": [
    "sales_data = pd.Series(np.array(range(10,100,10)))\n",
    "sales_data"
   ]
  },
  {
   "cell_type": "code",
   "execution_count": 174,
   "id": "f73bdd82",
   "metadata": {},
   "outputs": [
    {
     "name": "stdout",
     "output_type": "stream",
     "text": [
      "30\n",
      "1    20\n",
      "2    30\n",
      "3    40\n",
      "4    50\n",
      "dtype: int64\n"
     ]
    }
   ],
   "source": [
    "print(sales_data.loc[2])\n",
    "print(sales_data.loc[1:4])  # default index stop is exclusive"
   ]
  },
  {
   "cell_type": "code",
   "execution_count": 175,
   "id": "6b400149",
   "metadata": {},
   "outputs": [
    {
     "data": {
      "text/plain": [
       "day 0    0\n",
       "day 1    1\n",
       "day 2    2\n",
       "day 3    3\n",
       "day 4    4\n",
       "dtype: int64"
      ]
     },
     "execution_count": 175,
     "metadata": {},
     "output_type": "execute_result"
    }
   ],
   "source": [
    "my_series"
   ]
  },
  {
   "cell_type": "code",
   "execution_count": 176,
   "id": "df67f189",
   "metadata": {},
   "outputs": [
    {
     "data": {
      "text/plain": [
       "0      0\n",
       "2      1\n",
       "3      2\n",
       "100    3\n",
       "5      4\n",
       "dtype: int64"
      ]
     },
     "execution_count": 176,
     "metadata": {},
     "output_type": "execute_result"
    }
   ],
   "source": [
    "my_series.index = [0, 2, 3, 100, 5]\n",
    "my_series"
   ]
  },
  {
   "cell_type": "code",
   "execution_count": 177,
   "id": "49a7378d",
   "metadata": {},
   "outputs": [
    {
     "data": {
      "text/plain": [
       "0      0\n",
       "2      1\n",
       "3      2\n",
       "100    3\n",
       "5      4\n",
       "dtype: int64"
      ]
     },
     "execution_count": 177,
     "metadata": {},
     "output_type": "execute_result"
    }
   ],
   "source": [
    "my_series[0:100] # it's not showing any out of index range"
   ]
  },
  {
   "cell_type": "code",
   "execution_count": 178,
   "id": "b6fc38d1",
   "metadata": {},
   "outputs": [
    {
     "data": {
      "text/plain": [
       "0    0\n",
       "1    1\n",
       "2    2\n",
       "3    3\n",
       "dtype: int64"
      ]
     },
     "execution_count": 178,
     "metadata": {},
     "output_type": "execute_result"
    }
   ],
   "source": [
    "my_series.reset_index(drop=True).loc[:3] # reset the index"
   ]
  },
  {
   "cell_type": "markdown",
   "id": "8ccd65df",
   "metadata": {},
   "source": [
    "It is possible to have **Duplicate index values** in Pandas Series or DataFrame\n",
    "* Acccessing these indices by their label using .loc[] returns all corresponding rows"
   ]
  },
  {
   "cell_type": "markdown",
   "id": "f9bafd90",
   "metadata": {},
   "source": [
    "## DUPLICATE INDEX VALUES\n",
    "\n",
    "It is possible to have duplicate index values in a Pandas Series or DataFrame\n",
    "* Accessing these indices by their label `.loc[]` returns all corresponding rows"
   ]
  },
  {
   "cell_type": "code",
   "execution_count": 179,
   "id": "d13f18e5",
   "metadata": {},
   "outputs": [
    {
     "data": {
      "text/plain": [
       "coffee       0\n",
       "coffee       5\n",
       "tea        155\n",
       "coconut      0\n",
       "sugar      518\n",
       "Name: Sales, dtype: int64"
      ]
     },
     "execution_count": 179,
     "metadata": {},
     "output_type": "execute_result"
    }
   ],
   "source": [
    "sales = [0, 5, 155, 0, 518]\n",
    "items = [\"coffee\", \"coffee\", \"tea\", \"coconut\", \"sugar\"]\n",
    "\n",
    "sales_series  = pd.Series(sales, index=items, name=\"Sales\")\n",
    "\n",
    "sales_series"
   ]
  },
  {
   "cell_type": "markdown",
   "id": "e178440d",
   "metadata": {},
   "source": [
    "*Note that 'coffee' is used as an index value `twice`*"
   ]
  },
  {
   "cell_type": "code",
   "execution_count": 180,
   "id": "07f7ff6d",
   "metadata": {},
   "outputs": [
    {
     "data": {
      "text/plain": [
       "coffee    0\n",
       "coffee    5\n",
       "Name: Sales, dtype: int64"
      ]
     },
     "execution_count": 180,
     "metadata": {},
     "output_type": "execute_result"
    }
   ],
   "source": [
    "sales_series[\"coffee\"] # returning both row with same label"
   ]
  },
  {
   "cell_type": "markdown",
   "id": "63206f3e",
   "metadata": {},
   "source": [
    "<b style=\"color:orange\">Warning!</b> Duplicate index values are generally not advised, but there are some edge cases where they are useful"
   ]
  },
  {
   "cell_type": "markdown",
   "id": "7be877fd",
   "metadata": {},
   "source": [
    "## RESETTING THE INDEX\n",
    "\n",
    "You can **reset the index** in a Pandas Series or DataFrame back to the default range of integers by using the `.reset_index()` method\n",
    "\n",
    "* by default, the existing index will become a new column in a DataFrame"
   ]
  },
  {
   "cell_type": "code",
   "execution_count": 181,
   "id": "92b909e5",
   "metadata": {},
   "outputs": [
    {
     "name": "stdout",
     "output_type": "stream",
     "text": [
      "coffee       0\n",
      "coffee       5\n",
      "tea        155\n",
      "coconut      0\n",
      "sugar      518\n",
      "Name: Sales, dtype: int64\n"
     ]
    },
    {
     "data": {
      "text/plain": [
       "coffee      0\n",
       "coffee      5\n",
       "tea       155\n",
       "Name: Sales, dtype: int64"
      ]
     },
     "execution_count": 181,
     "metadata": {},
     "output_type": "execute_result"
    }
   ],
   "source": [
    "print(sales_series)\n",
    "sales_series[0:3]"
   ]
  },
  {
   "cell_type": "code",
   "execution_count": 182,
   "id": "5b455cc9",
   "metadata": {},
   "outputs": [
    {
     "data": {
      "text/html": [
       "<div>\n",
       "<style scoped>\n",
       "    .dataframe tbody tr th:only-of-type {\n",
       "        vertical-align: middle;\n",
       "    }\n",
       "\n",
       "    .dataframe tbody tr th {\n",
       "        vertical-align: top;\n",
       "    }\n",
       "\n",
       "    .dataframe thead th {\n",
       "        text-align: right;\n",
       "    }\n",
       "</style>\n",
       "<table border=\"1\" class=\"dataframe\">\n",
       "  <thead>\n",
       "    <tr style=\"text-align: right;\">\n",
       "      <th></th>\n",
       "      <th>index</th>\n",
       "      <th>Sales</th>\n",
       "    </tr>\n",
       "  </thead>\n",
       "  <tbody>\n",
       "    <tr>\n",
       "      <th>0</th>\n",
       "      <td>coffee</td>\n",
       "      <td>0</td>\n",
       "    </tr>\n",
       "    <tr>\n",
       "      <th>1</th>\n",
       "      <td>coffee</td>\n",
       "      <td>5</td>\n",
       "    </tr>\n",
       "    <tr>\n",
       "      <th>2</th>\n",
       "      <td>tea</td>\n",
       "      <td>155</td>\n",
       "    </tr>\n",
       "    <tr>\n",
       "      <th>3</th>\n",
       "      <td>coconut</td>\n",
       "      <td>0</td>\n",
       "    </tr>\n",
       "    <tr>\n",
       "      <th>4</th>\n",
       "      <td>sugar</td>\n",
       "      <td>518</td>\n",
       "    </tr>\n",
       "  </tbody>\n",
       "</table>\n",
       "</div>"
      ],
      "text/plain": [
       "     index  Sales\n",
       "0   coffee      0\n",
       "1   coffee      5\n",
       "2      tea    155\n",
       "3  coconut      0\n",
       "4    sugar    518"
      ]
     },
     "execution_count": 182,
     "metadata": {},
     "output_type": "execute_result"
    }
   ],
   "source": [
    "sales_series.reset_index() "
   ]
  },
  {
   "cell_type": "markdown",
   "id": "62a64d26",
   "metadata": {},
   "source": [
    "This returns a `DataFrame` by default, with the previous index values stored as a new column."
   ]
  },
  {
   "cell_type": "code",
   "execution_count": 183,
   "id": "2861ffb3",
   "metadata": {},
   "outputs": [
    {
     "name": "stdout",
     "output_type": "stream",
     "text": [
      "<class 'pandas.core.series.Series'>\n"
     ]
    },
    {
     "data": {
      "text/plain": [
       "coffee       0\n",
       "coffee       5\n",
       "tea        155\n",
       "coconut      0\n",
       "sugar      518\n",
       "Name: Sales, dtype: int64"
      ]
     },
     "execution_count": 183,
     "metadata": {},
     "output_type": "execute_result"
    }
   ],
   "source": [
    "print(type(sales_series))\n",
    "sales_series"
   ]
  },
  {
   "cell_type": "code",
   "execution_count": 184,
   "id": "03092e91",
   "metadata": {},
   "outputs": [
    {
     "name": "stdout",
     "output_type": "stream",
     "text": [
      "coffee      0\n",
      "coffee      5\n",
      "tea       155\n",
      "Name: Sales, dtype: int64\n"
     ]
    },
    {
     "data": {
      "text/plain": [
       "coffee       0\n",
       "coffee       5\n",
       "tea        155\n",
       "coconut      0\n",
       "Name: Sales, dtype: int64"
      ]
     },
     "execution_count": 184,
     "metadata": {},
     "output_type": "execute_result"
    }
   ],
   "source": [
    "print(sales_series[0:3] )\n",
    "sales_series[\"coffee\":\"coconut\"] # custom label index is inclusive"
   ]
  },
  {
   "cell_type": "code",
   "execution_count": 185,
   "id": "83d372ea",
   "metadata": {},
   "outputs": [
    {
     "data": {
      "text/plain": [
       "0      0\n",
       "1      5\n",
       "2    155\n",
       "3      0\n",
       "4    518\n",
       "Name: Sales, dtype: int64"
      ]
     },
     "execution_count": 185,
     "metadata": {},
     "output_type": "execute_result"
    }
   ],
   "source": [
    "sales_series.reset_index(drop=True) # reset the index if you don't want the preivious custom index"
   ]
  },
  {
   "cell_type": "markdown",
   "id": "f65ff448",
   "metadata": {},
   "source": [
    "The main distinction between the two methods is: \n",
    "* `loc` gets rows (and/or columns) with particular labels. \n",
    "* `iloc` gets rows (and/or columns) at integer locations.\n",
    "\n",
    "`loc` and `iloc` is indetical we can use both method for both use cases like int or label wise access the value"
   ]
  },
  {
   "cell_type": "code",
   "execution_count": 186,
   "id": "3fe5b5bc",
   "metadata": {},
   "outputs": [
    {
     "data": {
      "text/plain": [
       "2    155\n",
       "3      0\n",
       "4    518\n",
       "Name: Sales, dtype: int64"
      ]
     },
     "execution_count": 186,
     "metadata": {},
     "output_type": "execute_result"
    }
   ],
   "source": [
    "sales_series.reset_index(drop=True).loc[2:4] "
   ]
  },
  {
   "cell_type": "markdown",
   "id": "bfc5bb6c",
   "metadata": {},
   "source": [
    "## FILTERING SERIES\n",
    "\n",
    "You can filter a Series by passing a logical test into the `.iloc[]` accessor(like arrays!)"
   ]
  },
  {
   "cell_type": "code",
   "execution_count": 187,
   "id": "aee88099",
   "metadata": {},
   "outputs": [
    {
     "data": {
      "text/plain": [
       "coffee       0\n",
       "coffee       5\n",
       "tea        155\n",
       "coconut      0\n",
       "sugar      518\n",
       "Name: Sales, dtype: int64"
      ]
     },
     "execution_count": 187,
     "metadata": {},
     "output_type": "execute_result"
    }
   ],
   "source": [
    "sales_series"
   ]
  },
  {
   "cell_type": "code",
   "execution_count": 188,
   "id": "18fa994e",
   "metadata": {},
   "outputs": [
    {
     "data": {
      "text/plain": [
       "coffee      5\n",
       "tea       155\n",
       "sugar     518\n",
       "Name: Sales, dtype: int64"
      ]
     },
     "execution_count": 188,
     "metadata": {},
     "output_type": "execute_result"
    }
   ],
   "source": [
    "sales_series.loc[sales_series > 0] # filter using logic"
   ]
  },
  {
   "cell_type": "markdown",
   "id": "79c7e691",
   "metadata": {},
   "source": [
    "### LOGICAL OPERATORS & METHODS\n",
    "\n",
    "You can use these operators & methods to create Boolean filters for logical tests\n",
    "\n",
    "\n",
    "<table>\n",
    "  <tr>\n",
    "    <th style=\"color:red; text-align:left\" >Description</th>\n",
    "    <th style=\"color:red; text-align:left\" >Python Operators</th>\n",
    "    <th style=\"color:red; text-align:left\" >Pandas Method</th>\n",
    "  </tr>\n",
    "  <tr>\n",
    "    <td style=\"text-align:left\" >Equal</td>\n",
    "    <td style=\"text-align:left\" >==</td>\n",
    "    <td style=\"text-align:left\" >.eq()</td>\n",
    "  </tr>\n",
    "  <tr>\n",
    "    <td style=\"text-align:left\" >Not Equal</td>\n",
    "    <td style=\"text-align:left\" >!=</td>\n",
    "    <td style=\"text-align:left\" >.ne()</td>\n",
    "  </tr>\n",
    "  <tr>\n",
    "    <td style=\"text-align:left\" >Less Than or Equal</td>\n",
    "    <td style=\"text-align:left\" >&lt;=</td>\n",
    "    <td style=\"text-align:left\" >.le()</td>\n",
    "  </tr>\n",
    "  <tr>\n",
    "    <td style=\"text-align:left\" >Less Than</td>\n",
    "    <td style=\"text-align:left\" >&lt;</td>\n",
    "    <td style=\"text-align:left\" >.lt()</td>\n",
    "  </tr>\n",
    "  <tr>\n",
    "    <td style=\"text-align:left\" >Greater Than or Equal</td>\n",
    "    <td style=\"text-align:left\" >&gt;=</td>\n",
    "    <td style=\"text-align:left\" >.ge()</td>\n",
    "  </tr>\n",
    "  <tr>\n",
    "    <td style=\"text-align:left\" >Greater Than</td>\n",
    "    <td style=\"text-align:left\" >&gt;</td>\n",
    "    <td style=\"text-align:left\" >.gt()</td>\n",
    "  </tr>\n",
    "  <tr>\n",
    "    <td style=\"text-align:left\" >Membership Test</td>\n",
    "    <td style=\"text-align:left\" >in</td>\n",
    "    <td style=\"text-align:left\" >.isin()</td>\n",
    "  </tr>\n",
    "  <tr>\n",
    "    <td style=\"text-align:left\" >Inverse Membership Test</td>\n",
    "    <td style=\"text-align:left\" >not in</td>\n",
    "    <td style=\"text-align:left\" >~.isin()</td>\n",
    "  </tr>\n",
    "</table>"
   ]
  },
  {
   "cell_type": "code",
   "execution_count": 189,
   "id": "b12a3837",
   "metadata": {},
   "outputs": [
    {
     "data": {
      "text/plain": [
       "coffee       0\n",
       "coffee       5\n",
       "tea        155\n",
       "coconut      0\n",
       "sugar      518\n",
       "Name: Sales, dtype: int64"
      ]
     },
     "execution_count": 189,
     "metadata": {},
     "output_type": "execute_result"
    }
   ],
   "source": [
    "sales_series"
   ]
  },
  {
   "cell_type": "code",
   "execution_count": 190,
   "id": "f5f02f0d",
   "metadata": {},
   "outputs": [
    {
     "data": {
      "text/plain": [
       "coffee     False\n",
       "coffee      True\n",
       "tea        False\n",
       "coconut    False\n",
       "sugar      False\n",
       "Name: Sales, dtype: bool"
      ]
     },
     "execution_count": 190,
     "metadata": {},
     "output_type": "execute_result"
    }
   ],
   "source": [
    "sales_series == 5  # python operator"
   ]
  },
  {
   "cell_type": "code",
   "execution_count": 191,
   "id": "0b1ee341",
   "metadata": {},
   "outputs": [
    {
     "data": {
      "text/plain": [
       "coffee     False\n",
       "coffee      True\n",
       "tea        False\n",
       "coconut    False\n",
       "sugar      False\n",
       "Name: Sales, dtype: bool"
      ]
     },
     "execution_count": 191,
     "metadata": {},
     "output_type": "execute_result"
    }
   ],
   "source": [
    "sales_series.eq(5) # Pandas method"
   ]
  },
  {
   "cell_type": "markdown",
   "id": "86c5424d",
   "metadata": {},
   "source": [
    "The Python operators `in` and `not in` won't work from many operations, so Pandas method must be used."
   ]
  },
  {
   "cell_type": "code",
   "execution_count": 192,
   "id": "33cd85af",
   "metadata": {},
   "outputs": [
    {
     "data": {
      "text/plain": [
       "coffee       0\n",
       "coffee       5\n",
       "tea        155\n",
       "coconut      0\n",
       "sugar      518\n",
       "Name: Sales, dtype: int64"
      ]
     },
     "execution_count": 192,
     "metadata": {},
     "output_type": "execute_result"
    }
   ],
   "source": [
    "sales_series"
   ]
  },
  {
   "cell_type": "code",
   "execution_count": 193,
   "id": "5cb0d0be",
   "metadata": {},
   "outputs": [
    {
     "data": {
      "text/plain": [
       "array([ True,  True,  True, False, False])"
      ]
     },
     "execution_count": 193,
     "metadata": {},
     "output_type": "execute_result"
    }
   ],
   "source": [
    "sales_series.index.isin([\"coffee\", \"tea\"])"
   ]
  },
  {
   "cell_type": "markdown",
   "id": "1043d47f",
   "metadata": {},
   "source": [
    "###### ~ inverse"
   ]
  },
  {
   "cell_type": "code",
   "execution_count": 194,
   "id": "4c13dfd4",
   "metadata": {},
   "outputs": [
    {
     "data": {
      "text/plain": [
       "array([False, False, False,  True,  True])"
      ]
     },
     "execution_count": 194,
     "metadata": {},
     "output_type": "execute_result"
    }
   ],
   "source": [
    "~sales_series.index.isin([\"coffee\", \"tea\"]) #  the tide `~` the boolean values"
   ]
  },
  {
   "cell_type": "code",
   "execution_count": 195,
   "id": "8052acf9",
   "metadata": {},
   "outputs": [
    {
     "name": "stdout",
     "output_type": "stream",
     "text": [
      "coffee     False\n",
      "coffee      True\n",
      "tea        False\n",
      "coconut    False\n",
      "sugar      False\n",
      "Name: Sales, dtype: bool\n",
      "coffee     False\n",
      "coffee      True\n",
      "tea        False\n",
      "coconut    False\n",
      "sugar      False\n",
      "Name: Sales, dtype: bool\n"
     ]
    }
   ],
   "source": [
    "# Python\n",
    "print(sales_series == 5, sep=\"\\n\\n\")\n",
    "# print(sales_series != 5)\n",
    "# print(sales_series <= 5)\n",
    "# print(sales_series < 5)\n",
    "# print(sales_series >= 5)\n",
    "# print(sales_series > 5)\n",
    "# print(5 in sales_series)\n",
    "# print(5 not in sales_series)\n",
    "\n",
    "# Pandas\n",
    "print(sales_series.eq(5))\n",
    "# print(sales_series.ne(5))\n",
    "# print(sales_series.le(5))\n",
    "# print(sales_series.lt(5))\n",
    "# print(sales_series.ge(5))\n",
    "# print(sales_series.gt(5))\n",
    "# print(sales_series.index.isin([\"coffee\"]))\n",
    "# print(~sales_series.index.isin([\"coffee\"]))"
   ]
  },
  {
   "cell_type": "markdown",
   "id": "5c4fc638",
   "metadata": {},
   "source": [
    "## SORTING SERIES\n",
    "\n",
    "You can **sort Series** by their values or their index\n",
    "* the `.sort_values()` method sorts a series by it's values ascending order"
   ]
  },
  {
   "cell_type": "code",
   "execution_count": 196,
   "id": "7bbbea3a",
   "metadata": {},
   "outputs": [
    {
     "data": {
      "text/plain": [
       "coffee       0\n",
       "coffee       5\n",
       "tea        155\n",
       "coconut      0\n",
       "sugar      518\n",
       "Name: Sales, dtype: int64"
      ]
     },
     "execution_count": 196,
     "metadata": {},
     "output_type": "execute_result"
    }
   ],
   "source": [
    "sales_series"
   ]
  },
  {
   "cell_type": "code",
   "execution_count": 197,
   "id": "df4dece6",
   "metadata": {},
   "outputs": [
    {
     "data": {
      "text/plain": [
       "coffee       0\n",
       "coconut      0\n",
       "coffee       5\n",
       "tea        155\n",
       "sugar      518\n",
       "Name: Sales, dtype: int64"
      ]
     },
     "execution_count": 197,
     "metadata": {},
     "output_type": "execute_result"
    }
   ],
   "source": [
    "sales_series.sort_values()"
   ]
  },
  {
   "cell_type": "code",
   "execution_count": 198,
   "id": "a1450681",
   "metadata": {},
   "outputs": [
    {
     "data": {
      "text/plain": [
       "sugar      518\n",
       "tea        155\n",
       "coffee       5\n",
       "coffee       0\n",
       "coconut      0\n",
       "Name: Sales, dtype: int64"
      ]
     },
     "execution_count": 198,
     "metadata": {},
     "output_type": "execute_result"
    }
   ],
   "source": [
    "sales_series.sort_values(ascending=False)"
   ]
  },
  {
   "cell_type": "markdown",
   "id": "686e75d1",
   "metadata": {},
   "source": [
    "The **`sort_index()`** method sorts a Series by its index in ascending order"
   ]
  },
  {
   "cell_type": "code",
   "execution_count": 199,
   "id": "8f2d89bd",
   "metadata": {},
   "outputs": [
    {
     "data": {
      "text/plain": [
       "coconut      0\n",
       "coffee       0\n",
       "coffee       5\n",
       "sugar      518\n",
       "tea        155\n",
       "Name: Sales, dtype: int64"
      ]
     },
     "execution_count": 199,
     "metadata": {},
     "output_type": "execute_result"
    }
   ],
   "source": [
    "sales_series.sort_index()"
   ]
  },
  {
   "cell_type": "code",
   "execution_count": 200,
   "id": "ceb51efd",
   "metadata": {},
   "outputs": [
    {
     "data": {
      "text/plain": [
       "tea        155\n",
       "sugar      518\n",
       "coffee       0\n",
       "coffee       5\n",
       "coconut      0\n",
       "Name: Sales, dtype: int64"
      ]
     },
     "execution_count": 200,
     "metadata": {},
     "output_type": "execute_result"
    }
   ],
   "source": [
    "sales_series.sort_index(ascending=False)"
   ]
  }
 ],
 "metadata": {
  "kernelspec": {
   "display_name": "Python 3 (ipykernel)",
   "language": "python",
   "name": "python3"
  },
  "language_info": {
   "codemirror_mode": {
    "name": "ipython",
    "version": 3
   },
   "file_extension": ".py",
   "mimetype": "text/x-python",
   "name": "python",
   "nbconvert_exporter": "python",
   "pygments_lexer": "ipython3",
   "version": "3.9.13"
  }
 },
 "nbformat": 4,
 "nbformat_minor": 5
}
